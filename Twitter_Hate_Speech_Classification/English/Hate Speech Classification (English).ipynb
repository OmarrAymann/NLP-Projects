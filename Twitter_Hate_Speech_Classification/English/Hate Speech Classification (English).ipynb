{
 "cells": [
  {
   "cell_type": "markdown",
   "metadata": {
    "id": "ySsIPBRiorxK"
   },
   "source": [
    "<h1 style=\"background-color:rgb(21, 131, 85); font-family: newtimeroman; font-size: 250%; color: white; border-radius: 80px 20px; padding: 25px; text-align: center;\">\n",
    "<b>labeled dataset collected from twitter (Hate Speech)</b>\n",
    "</h1>\n",
    "\n",
    "\n",
    "**Objective**\n",
    "\n",
    "- classify tweets containing hate speech from other tweets. <br>\n",
    "0 : No hate speech <br>\n",
    "1 : Contains hate speech <br>\n",
    "\n",
    "\n",
    "**Evaluation metric**\n",
    "- macro f1 score used for unbalanced datasets"
   ]
  },
  {
   "cell_type": "markdown",
   "metadata": {
    "id": "v-6lrKz6orxT"
   },
   "source": [
    "# `00` **Import used libraries**"
   ]
  },
  {
   "cell_type": "code",
   "execution_count": 1,
   "metadata": {
    "id": "eXUPo3g4orxV"
   },
   "outputs": [
    {
     "name": "stderr",
     "output_type": "stream",
     "text": [
      "[nltk_data] Downloading package stopwords to C:\\Users\\Omar\n",
      "[nltk_data]     Elgema3y\\AppData\\Roaming\\nltk_data...\n",
      "[nltk_data]   Package stopwords is already up-to-date!\n",
      "[nltk_data] Downloading package wordnet to C:\\Users\\Omar\n",
      "[nltk_data]     Elgema3y\\AppData\\Roaming\\nltk_data...\n",
      "[nltk_data]   Package wordnet is already up-to-date!\n",
      "[nltk_data] Downloading package punkt_tab to C:\\Users\\Omar\n",
      "[nltk_data]     Elgema3y\\AppData\\Roaming\\nltk_data...\n",
      "[nltk_data]   Package punkt_tab is already up-to-date!\n"
     ]
    },
    {
     "data": {
      "text/plain": [
       "True"
      ]
     },
     "execution_count": 1,
     "metadata": {},
     "output_type": "execute_result"
    }
   ],
   "source": [
    "import pandas as pd\n",
    "pd.set_option('display.max_rows', 500)\n",
    "pd.set_option('display.max_colwidth', 500)\n",
    "import numpy as np\n",
    "import matplotlib.pyplot as plt\n",
    "import seaborn as sns\n",
    "\n",
    "from sklearn.model_selection import train_test_split\n",
    "from sklearn.feature_extraction.text import TfidfVectorizer, CountVectorizer\n",
    "from sklearn.metrics import classification_report, confusion_matrix, f1_score\n",
    "from sklearn.linear_model import LogisticRegression\n",
    "from sklearn.model_selection import GridSearchCV\n",
    "from sklearn.pipeline import Pipeline\n",
    "\n",
    "import re\n",
    "import nltk\n",
    "from nltk.corpus import stopwords\n",
    "from nltk.tokenize import word_tokenize\n",
    "from nltk.stem import PorterStemmer\n",
    "from nltk.stem import WordNetLemmatizer\n",
    "nltk.download(['stopwords','wordnet','punkt_tab'])\n"
   ]
  },
  {
   "cell_type": "code",
   "execution_count": 256,
   "metadata": {},
   "outputs": [],
   "source": [
    "import spacy\n",
    "from gensim.models import Word2Vec, KeyedVectors, FastText\n",
    "import gensim\n",
    "import gensim.downloader as api\n",
    "\n",
    "import tensorflow as tf\n",
    "from sklearn.model_selection import train_test_split\n",
    "from tensorflow.keras.preprocessing.text import Tokenizer\n",
    "from tensorflow.keras.preprocessing.sequence import pad_sequences\n",
    "from tensorflow.keras.models import Sequential\n",
    "from tensorflow.keras.layers import Embedding, Conv1D, GlobalMaxPooling1D, Dense, Dropout , BatchNormalization\n",
    "from tensorflow.keras.callbacks import EarlyStopping\n",
    "\n",
    "import eli5"
   ]
  },
  {
   "cell_type": "markdown",
   "metadata": {
    "id": "fG8MkuvjorxX"
   },
   "source": [
    "# `01` **Load Dataset**"
   ]
  },
  {
   "cell_type": "markdown",
   "metadata": {},
   "source": [
    "###### Note: search how to load the data from tsv file"
   ]
  },
  {
   "cell_type": "code",
   "execution_count": 3,
   "metadata": {
    "id": "BYeqhp66orxY"
   },
   "outputs": [
    {
     "data": {
      "application/vnd.microsoft.datawrangler.viewer.v0+json": {
       "columns": [
        {
         "name": "id",
         "rawType": "int64",
         "type": "integer"
        },
        {
         "name": "label",
         "rawType": "int64",
         "type": "integer"
        },
        {
         "name": "tweet",
         "rawType": "object",
         "type": "string"
        }
       ],
       "conversionMethod": "pd.DataFrame",
       "ref": "c54aeb88-4144-462c-8386-e445042a5a29",
       "rows": [
        [
         "1",
         "0",
         "@user when a father is dysfunctional and is so selfish he drags his kids into his dysfunction.   #run"
        ],
        [
         "2",
         "0",
         "@user @user thanks for #lyft credit i can't use cause they don't offer wheelchair vans in pdx.    #disapointed #getthanked"
        ],
        [
         "3",
         "0",
         "bihday your majesty"
        ],
        [
         "4",
         "0",
         "#model   i love u take with u all the time in urð±!!! ððððð¦ð¦ð¦"
        ],
        [
         "5",
         "0",
         "factsguide: society now    #motivation"
        ],
        [
         "6",
         "0",
         "[2/2] huge fan fare and big talking before they leave. chaos and pay disputes when they get there. #allshowandnogo"
        ],
        [
         "7",
         "0",
         "@user camping tomorrow @user @user @user @user @user @user @user dannyâ¦"
        ],
        [
         "8",
         "0",
         "the next school year is the year for exams.ð¯ can't think about that ð­ #school #exams   #hate #imagine #actorslife #revolutionschool #girl"
        ],
        [
         "9",
         "0",
         "we won!!! love the land!!! #allin #cavs #champions #cleveland #clevelandcavaliers  â¦"
        ],
        [
         "10",
         "0",
         "@user @user welcome here !  i'm   it's so #gr8 !"
        ],
        [
         "11",
         "0",
         "â #ireland consumer price index (mom) climbed from previous 0.2% to 0.5% in may   #blog #silver #gold #forex"
        ],
        [
         "12",
         "0",
         "we are so selfish. #orlando #standwithorlando #pulseshooting #orlandoshooting #biggerproblems #selfish #heabreaking   #values #love #"
        ],
        [
         "13",
         "0",
         "i get to see my daddy today!!   #80days #gettingfed"
        ],
        [
         "14",
         "1",
         "@user #cnn calls #michigan middle school 'build the wall' chant '' #tcot"
        ],
        [
         "15",
         "1",
         "no comment!  in #australia   #opkillingbay #seashepherd #helpcovedolphins #thecove  #helpcovedolphins"
        ],
        [
         "16",
         "0",
         "ouch...junior is angryð#got7 #junior #yugyoem   #omg"
        ],
        [
         "17",
         "0",
         "i am thankful for having a paner. #thankful #positive"
        ],
        [
         "18",
         "1",
         "retweet if you agree!"
        ],
        [
         "19",
         "0",
         "its #friday! ð smiles all around via ig user: @user #cookies make people"
        ],
        [
         "20",
         "0",
         "as we all know, essential oils are not made of chemicals. "
        ],
        [
         "21",
         "0",
         "#euro2016 people blaming ha for conceded goal was it fat rooney who gave away free kick knowing bale can hit them from there."
        ],
        [
         "22",
         "0",
         "sad little dude..   #badday #coneofshame #cats #pissed #funny #laughs"
        ],
        [
         "23",
         "0",
         "product of the day: happy man #wine tool  who's   it's the #weekend? time to open up &amp; drink up!"
        ],
        [
         "24",
         "1",
         "@user @user lumpy says i am a . prove it lumpy."
        ],
        [
         "25",
         "0",
         "@user #tgif   #ff to my #gamedev #indiedev #indiegamedev #squad! @user @user @user @user @user"
        ],
        [
         "26",
         "0",
         "beautiful sign by vendor 80 for $45.00!! #upsideofflorida #shopalyssas   #love"
        ],
        [
         "27",
         "0",
         "@user all #smiles when #media is   !! ðð #pressconference in #antalya #turkey ! sunday #throwback  love! ððâ¤ï¸"
        ],
        [
         "28",
         "0",
         "we had a great panel on the mediatization of the public service   #ica16"
        ],
        [
         "29",
         "0",
         "happy father's day @user ðððð"
        ],
        [
         "30",
         "0",
         "50 people went to nightclub to have a good night and 1 man's actions means those people are lost to their families forever #rip#orlando"
        ],
        [
         "31",
         "0",
         "i have never had a chance to vote for a presidential candidate i was excited about and this cycle looks to be no different."
        ],
        [
         "32",
         "0",
         "#alohafriday #time does #not #exist #positivevibes #hawaiian @user @user @user @user"
        ],
        [
         "33",
         "0",
         " @user rip to the fellow nohern ireland fan who sadley passed away tonight!.. gawa, forever singing and cheering on fire  "
        ],
        [
         "34",
         "0",
         "it was a hard monday due to cloudy weather. disabling oxygen production for today. #goodnight #badmonday"
        ],
        [
         "35",
         "1",
         "it's unbelievable that in the 21st century we'd need something like this. again. #neverump  #xenophobia"
        ],
        [
         "36",
         "0",
         "#taylorswift1989   bull up: you will dominate your bull and you will direct it whatever you want it to do. w"
        ],
        [
         "37",
         "0",
         "morning~~ #travelingram #dalat   #ripinkylife"
        ],
        [
         "38",
         "0",
         "@user once more only one word tells it all: #photoshop.  #enoughisenough #dontphotoshopeverything #wheresallthenaturalphotos"
        ],
        [
         "39",
         "0",
         "oh, #cedarpoint. waited 2 hours in the valravn line and it stopped working. we were so close.  "
        ],
        [
         "40",
         "0",
         "i am thankful for sunshine. #thankful #positive"
        ],
        [
         "41",
         "0",
         "when you finally finish a book you've been working on for awhile...  #bookworm #ontothenextnovel"
        ],
        [
         "42",
         "0",
         "yup, being a knicks fan is hard, so its easier to just be an nba fan when the playoffs roll around ð "
        ],
        [
         "43",
         "0",
         "there is life after social networking. embrace each day. be"
        ],
        [
         "44",
         "0",
         "my mom shares the same bihday as @user   bihday snake! see you this weekend ðð¼"
        ],
        [
         "45",
         "0",
         "lovely echeveria blooms#flowers #grow #gardening #iphonesia #bliss #blooms #basilicabotanica"
        ],
        [
         "46",
         "0",
         "i am amazing. #i_am #positive #affirmation"
        ],
        [
         "47",
         "0",
         "#model   i love u take with u all the time in urð±!!! ððððð¦ð¦ð¦"
        ],
        [
         "48",
         "0",
         "#whenever im   and #something goes #wrong  |"
        ],
        [
         "49",
         "0",
         "feeling blue #illustration"
        ],
        [
         "50",
         "0",
         "the best pa about life is knowing who you are! ðâï¸ð¼ð»  â¦"
        ]
       ],
       "shape": {
        "columns": 2,
        "rows": 100
       }
      },
      "text/html": [
       "<div>\n",
       "<style scoped>\n",
       "    .dataframe tbody tr th:only-of-type {\n",
       "        vertical-align: middle;\n",
       "    }\n",
       "\n",
       "    .dataframe tbody tr th {\n",
       "        vertical-align: top;\n",
       "    }\n",
       "\n",
       "    .dataframe thead th {\n",
       "        text-align: right;\n",
       "    }\n",
       "</style>\n",
       "<table border=\"1\" class=\"dataframe\">\n",
       "  <thead>\n",
       "    <tr style=\"text-align: right;\">\n",
       "      <th></th>\n",
       "      <th>label</th>\n",
       "      <th>tweet</th>\n",
       "    </tr>\n",
       "    <tr>\n",
       "      <th>id</th>\n",
       "      <th></th>\n",
       "      <th></th>\n",
       "    </tr>\n",
       "  </thead>\n",
       "  <tbody>\n",
       "    <tr>\n",
       "      <th>1</th>\n",
       "      <td>0</td>\n",
       "      <td>@user when a father is dysfunctional and is so selfish he drags his kids into his dysfunction.   #run</td>\n",
       "    </tr>\n",
       "    <tr>\n",
       "      <th>2</th>\n",
       "      <td>0</td>\n",
       "      <td>@user @user thanks for #lyft credit i can't use cause they don't offer wheelchair vans in pdx.    #disapointed #getthanked</td>\n",
       "    </tr>\n",
       "    <tr>\n",
       "      <th>3</th>\n",
       "      <td>0</td>\n",
       "      <td>bihday your majesty</td>\n",
       "    </tr>\n",
       "    <tr>\n",
       "      <th>4</th>\n",
       "      <td>0</td>\n",
       "      <td>#model   i love u take with u all the time in urð±!!! ððððð¦ð¦ð¦</td>\n",
       "    </tr>\n",
       "    <tr>\n",
       "      <th>5</th>\n",
       "      <td>0</td>\n",
       "      <td>factsguide: society now    #motivation</td>\n",
       "    </tr>\n",
       "    <tr>\n",
       "      <th>6</th>\n",
       "      <td>0</td>\n",
       "      <td>[2/2] huge fan fare and big talking before they leave. chaos and pay disputes when they get there. #allshowandnogo</td>\n",
       "    </tr>\n",
       "    <tr>\n",
       "      <th>7</th>\n",
       "      <td>0</td>\n",
       "      <td>@user camping tomorrow @user @user @user @user @user @user @user dannyâ¦</td>\n",
       "    </tr>\n",
       "    <tr>\n",
       "      <th>8</th>\n",
       "      <td>0</td>\n",
       "      <td>the next school year is the year for exams.ð¯ can't think about that ð­ #school #exams   #hate #imagine #actorslife #revolutionschool #girl</td>\n",
       "    </tr>\n",
       "    <tr>\n",
       "      <th>9</th>\n",
       "      <td>0</td>\n",
       "      <td>we won!!! love the land!!! #allin #cavs #champions #cleveland #clevelandcavaliers  â¦</td>\n",
       "    </tr>\n",
       "    <tr>\n",
       "      <th>10</th>\n",
       "      <td>0</td>\n",
       "      <td>@user @user welcome here !  i'm   it's so #gr8 !</td>\n",
       "    </tr>\n",
       "    <tr>\n",
       "      <th>11</th>\n",
       "      <td>0</td>\n",
       "      <td>â #ireland consumer price index (mom) climbed from previous 0.2% to 0.5% in may   #blog #silver #gold #forex</td>\n",
       "    </tr>\n",
       "    <tr>\n",
       "      <th>12</th>\n",
       "      <td>0</td>\n",
       "      <td>we are so selfish. #orlando #standwithorlando #pulseshooting #orlandoshooting #biggerproblems #selfish #heabreaking   #values #love #</td>\n",
       "    </tr>\n",
       "    <tr>\n",
       "      <th>13</th>\n",
       "      <td>0</td>\n",
       "      <td>i get to see my daddy today!!   #80days #gettingfed</td>\n",
       "    </tr>\n",
       "    <tr>\n",
       "      <th>14</th>\n",
       "      <td>1</td>\n",
       "      <td>@user #cnn calls #michigan middle school 'build the wall' chant '' #tcot</td>\n",
       "    </tr>\n",
       "    <tr>\n",
       "      <th>15</th>\n",
       "      <td>1</td>\n",
       "      <td>no comment!  in #australia   #opkillingbay #seashepherd #helpcovedolphins #thecove  #helpcovedolphins</td>\n",
       "    </tr>\n",
       "    <tr>\n",
       "      <th>16</th>\n",
       "      <td>0</td>\n",
       "      <td>ouch...junior is angryð#got7 #junior #yugyoem   #omg</td>\n",
       "    </tr>\n",
       "    <tr>\n",
       "      <th>17</th>\n",
       "      <td>0</td>\n",
       "      <td>i am thankful for having a paner. #thankful #positive</td>\n",
       "    </tr>\n",
       "    <tr>\n",
       "      <th>18</th>\n",
       "      <td>1</td>\n",
       "      <td>retweet if you agree!</td>\n",
       "    </tr>\n",
       "    <tr>\n",
       "      <th>19</th>\n",
       "      <td>0</td>\n",
       "      <td>its #friday! ð smiles all around via ig user: @user #cookies make people</td>\n",
       "    </tr>\n",
       "    <tr>\n",
       "      <th>20</th>\n",
       "      <td>0</td>\n",
       "      <td>as we all know, essential oils are not made of chemicals.</td>\n",
       "    </tr>\n",
       "    <tr>\n",
       "      <th>21</th>\n",
       "      <td>0</td>\n",
       "      <td>#euro2016 people blaming ha for conceded goal was it fat rooney who gave away free kick knowing bale can hit them from there.</td>\n",
       "    </tr>\n",
       "    <tr>\n",
       "      <th>22</th>\n",
       "      <td>0</td>\n",
       "      <td>sad little dude..   #badday #coneofshame #cats #pissed #funny #laughs</td>\n",
       "    </tr>\n",
       "    <tr>\n",
       "      <th>23</th>\n",
       "      <td>0</td>\n",
       "      <td>product of the day: happy man #wine tool  who's   it's the #weekend? time to open up &amp;amp; drink up!</td>\n",
       "    </tr>\n",
       "    <tr>\n",
       "      <th>24</th>\n",
       "      <td>1</td>\n",
       "      <td>@user @user lumpy says i am a . prove it lumpy.</td>\n",
       "    </tr>\n",
       "    <tr>\n",
       "      <th>25</th>\n",
       "      <td>0</td>\n",
       "      <td>@user #tgif   #ff to my #gamedev #indiedev #indiegamedev #squad! @user @user @user @user @user</td>\n",
       "    </tr>\n",
       "    <tr>\n",
       "      <th>26</th>\n",
       "      <td>0</td>\n",
       "      <td>beautiful sign by vendor 80 for $45.00!! #upsideofflorida #shopalyssas   #love</td>\n",
       "    </tr>\n",
       "    <tr>\n",
       "      <th>27</th>\n",
       "      <td>0</td>\n",
       "      <td>@user all #smiles when #media is   !! ðð #pressconference in #antalya #turkey ! sunday #throwback  love! ððâ¤ï¸</td>\n",
       "    </tr>\n",
       "    <tr>\n",
       "      <th>28</th>\n",
       "      <td>0</td>\n",
       "      <td>we had a great panel on the mediatization of the public service   #ica16</td>\n",
       "    </tr>\n",
       "    <tr>\n",
       "      <th>29</th>\n",
       "      <td>0</td>\n",
       "      <td>happy father's day @user ðððð</td>\n",
       "    </tr>\n",
       "    <tr>\n",
       "      <th>30</th>\n",
       "      <td>0</td>\n",
       "      <td>50 people went to nightclub to have a good night and 1 man's actions means those people are lost to their families forever #rip#orlando</td>\n",
       "    </tr>\n",
       "    <tr>\n",
       "      <th>31</th>\n",
       "      <td>0</td>\n",
       "      <td>i have never had a chance to vote for a presidential candidate i was excited about and this cycle looks to be no different.</td>\n",
       "    </tr>\n",
       "    <tr>\n",
       "      <th>32</th>\n",
       "      <td>0</td>\n",
       "      <td>#alohafriday #time does #not #exist #positivevibes #hawaiian @user @user @user @user</td>\n",
       "    </tr>\n",
       "    <tr>\n",
       "      <th>33</th>\n",
       "      <td>0</td>\n",
       "      <td>@user rip to the fellow nohern ireland fan who sadley passed away tonight!.. gawa, forever singing and cheering on fire</td>\n",
       "    </tr>\n",
       "    <tr>\n",
       "      <th>34</th>\n",
       "      <td>0</td>\n",
       "      <td>it was a hard monday due to cloudy weather. disabling oxygen production for today. #goodnight #badmonday</td>\n",
       "    </tr>\n",
       "    <tr>\n",
       "      <th>35</th>\n",
       "      <td>1</td>\n",
       "      <td>it's unbelievable that in the 21st century we'd need something like this. again. #neverump  #xenophobia</td>\n",
       "    </tr>\n",
       "    <tr>\n",
       "      <th>36</th>\n",
       "      <td>0</td>\n",
       "      <td>#taylorswift1989   bull up: you will dominate your bull and you will direct it whatever you want it to do. w</td>\n",
       "    </tr>\n",
       "    <tr>\n",
       "      <th>37</th>\n",
       "      <td>0</td>\n",
       "      <td>morning~~ #travelingram #dalat   #ripinkylife</td>\n",
       "    </tr>\n",
       "    <tr>\n",
       "      <th>38</th>\n",
       "      <td>0</td>\n",
       "      <td>@user once more only one word tells it all: #photoshop.  #enoughisenough #dontphotoshopeverything #wheresallthenaturalphotos</td>\n",
       "    </tr>\n",
       "    <tr>\n",
       "      <th>39</th>\n",
       "      <td>0</td>\n",
       "      <td>oh, #cedarpoint. waited 2 hours in the valravn line and it stopped working. we were so close.</td>\n",
       "    </tr>\n",
       "    <tr>\n",
       "      <th>40</th>\n",
       "      <td>0</td>\n",
       "      <td>i am thankful for sunshine. #thankful #positive</td>\n",
       "    </tr>\n",
       "    <tr>\n",
       "      <th>41</th>\n",
       "      <td>0</td>\n",
       "      <td>when you finally finish a book you've been working on for awhile...  #bookworm #ontothenextnovel</td>\n",
       "    </tr>\n",
       "    <tr>\n",
       "      <th>42</th>\n",
       "      <td>0</td>\n",
       "      <td>yup, being a knicks fan is hard, so its easier to just be an nba fan when the playoffs roll around ð</td>\n",
       "    </tr>\n",
       "    <tr>\n",
       "      <th>43</th>\n",
       "      <td>0</td>\n",
       "      <td>there is life after social networking. embrace each day. be</td>\n",
       "    </tr>\n",
       "    <tr>\n",
       "      <th>44</th>\n",
       "      <td>0</td>\n",
       "      <td>my mom shares the same bihday as @user   bihday snake! see you this weekend ðð¼</td>\n",
       "    </tr>\n",
       "    <tr>\n",
       "      <th>45</th>\n",
       "      <td>0</td>\n",
       "      <td>lovely echeveria blooms#flowers #grow #gardening #iphonesia #bliss #blooms #basilicabotanica</td>\n",
       "    </tr>\n",
       "    <tr>\n",
       "      <th>46</th>\n",
       "      <td>0</td>\n",
       "      <td>i am amazing. #i_am #positive #affirmation</td>\n",
       "    </tr>\n",
       "    <tr>\n",
       "      <th>47</th>\n",
       "      <td>0</td>\n",
       "      <td>#model   i love u take with u all the time in urð±!!! ððððð¦ð¦ð¦</td>\n",
       "    </tr>\n",
       "    <tr>\n",
       "      <th>48</th>\n",
       "      <td>0</td>\n",
       "      <td>#whenever im   and #something goes #wrong  |</td>\n",
       "    </tr>\n",
       "    <tr>\n",
       "      <th>49</th>\n",
       "      <td>0</td>\n",
       "      <td>feeling blue #illustration</td>\n",
       "    </tr>\n",
       "    <tr>\n",
       "      <th>50</th>\n",
       "      <td>0</td>\n",
       "      <td>the best pa about life is knowing who you are! ðâï¸ð¼ð»  â¦</td>\n",
       "    </tr>\n",
       "    <tr>\n",
       "      <th>51</th>\n",
       "      <td>0</td>\n",
       "      <td>#abc2020 getting ready 2 remove the victums frm #pulseclub #prayfororlando</td>\n",
       "    </tr>\n",
       "    <tr>\n",
       "      <th>52</th>\n",
       "      <td>0</td>\n",
       "      <td>for her #bihday we got her a #nose #job @user  ðð¶ððð    #bihday #petunia we love you ð</td>\n",
       "    </tr>\n",
       "    <tr>\n",
       "      <th>53</th>\n",
       "      <td>0</td>\n",
       "      <td>off to concelebrate at the #albanpilgrimage for the first time.   @user</td>\n",
       "    </tr>\n",
       "    <tr>\n",
       "      <th>54</th>\n",
       "      <td>0</td>\n",
       "      <td>@user let the scum-baggery begin.....</td>\n",
       "    </tr>\n",
       "    <tr>\n",
       "      <th>55</th>\n",
       "      <td>0</td>\n",
       "      <td>thank you! ðð super love it! â¤ï¸ zpamdelacruz   #wedding# @ dolores, capas tarlac.</td>\n",
       "    </tr>\n",
       "    <tr>\n",
       "      <th>56</th>\n",
       "      <td>0</td>\n",
       "      <td>a scourge on those playing baroque pieces on piano    beyond belief</td>\n",
       "    </tr>\n",
       "    <tr>\n",
       "      <th>57</th>\n",
       "      <td>1</td>\n",
       "      <td>@user lets fight against  #love #peace</td>\n",
       "    </tr>\n",
       "    <tr>\n",
       "      <th>58</th>\n",
       "      <td>0</td>\n",
       "      <td>happy fatherâs day, mr. rayos #video   #fathers #day #rayos #world #hotvideo #videos</td>\n",
       "    </tr>\n",
       "    <tr>\n",
       "      <th>59</th>\n",
       "      <td>0</td>\n",
       "      <td>@user ascot times with this babe â¤ï¸â¤ï¸ #ascot #fashion #monochrome #style   #instahappyday</td>\n",
       "    </tr>\n",
       "    <tr>\n",
       "      <th>60</th>\n",
       "      <td>0</td>\n",
       "      <td>the weekend..is here!!ððððð #selfie   #yolo #xoxo #like4like</td>\n",
       "    </tr>\n",
       "    <tr>\n",
       "      <th>61</th>\n",
       "      <td>0</td>\n",
       "      <td>happy at work conference: right' mindset leads to culture-of-development organizations    #work #mindset</td>\n",
       "    </tr>\n",
       "    <tr>\n",
       "      <th>62</th>\n",
       "      <td>0</td>\n",
       "      <td>christina grimmie's  last performance before being shot...  via @user #christinarip #voice #christinagrimmie</td>\n",
       "    </tr>\n",
       "    <tr>\n",
       "      <th>63</th>\n",
       "      <td>0</td>\n",
       "      <td>we are ready to dance #roar #preschoolers   #students #proudâ¦</td>\n",
       "    </tr>\n",
       "    <tr>\n",
       "      <th>64</th>\n",
       "      <td>0</td>\n",
       "      <td>you've really hu my feelings :(</td>\n",
       "    </tr>\n",
       "    <tr>\n",
       "      <th>65</th>\n",
       "      <td>0</td>\n",
       "      <td>@user my wife whom i adore had to miss your poland show because she had surgery. her name is bridget &amp;amp; she's my everything.</td>\n",
       "    </tr>\n",
       "    <tr>\n",
       "      <th>66</th>\n",
       "      <td>0</td>\n",
       "      <td>@user i am so jealous of you right now.... #chatiado</td>\n",
       "    </tr>\n",
       "    <tr>\n",
       "      <th>67</th>\n",
       "      <td>0</td>\n",
       "      <td>i celebrate every man that has played it's fatherly role.   father's day#</td>\n",
       "    </tr>\n",
       "    <tr>\n",
       "      <th>68</th>\n",
       "      <td>0</td>\n",
       "      <td>i'm sure they are just as happy.... ðð½ðð½ðð½   hour</td>\n",
       "    </tr>\n",
       "    <tr>\n",
       "      <th>69</th>\n",
       "      <td>1</td>\n",
       "      <td>ð©the white establishment can't have blk folx running around loving themselves and promoting our greatness</td>\n",
       "    </tr>\n",
       "    <tr>\n",
       "      <th>70</th>\n",
       "      <td>0</td>\n",
       "      <td>good morning! the journey begins! ððð»ð³   #travel #yeah #thejourneybegins #helloâ¦</td>\n",
       "    </tr>\n",
       "    <tr>\n",
       "      <th>71</th>\n",
       "      <td>0</td>\n",
       "      <td>@user # if you #luv #hottweets like this from â¶ â¥#venusexchangeâ¥</td>\n",
       "    </tr>\n",
       "    <tr>\n",
       "      <th>72</th>\n",
       "      <td>0</td>\n",
       "      <td>our new brochures have arrived! how exciting!! #aworks #solutions</td>\n",
       "    </tr>\n",
       "    <tr>\n",
       "      <th>73</th>\n",
       "      <td>0</td>\n",
       "      <td>so much stuff happening in florida! first #orlando shooting and now #disneygatorattack on a two year old kidð¥ð</td>\n",
       "    </tr>\n",
       "    <tr>\n",
       "      <th>74</th>\n",
       "      <td>0</td>\n",
       "      <td>@user ferrari will do itðªð¼ for the sake of the championship. this gp is clearly a turning point rb, ferrari,mercs...ð</td>\n",
       "    </tr>\n",
       "    <tr>\n",
       "      <th>75</th>\n",
       "      <td>0</td>\n",
       "      <td>aced my first test!   #proud</td>\n",
       "    </tr>\n",
       "    <tr>\n",
       "      <th>76</th>\n",
       "      <td>0</td>\n",
       "      <td>seeks probe into #udtapunjab' leak, points finger at #amarinder, #aap</td>\n",
       "    </tr>\n",
       "    <tr>\n",
       "      <th>77</th>\n",
       "      <td>0</td>\n",
       "      <td>@user wrapping up #senseaboutmaths @user 6th   @user @user @user</td>\n",
       "    </tr>\n",
       "    <tr>\n",
       "      <th>78</th>\n",
       "      <td>1</td>\n",
       "      <td>@user hey, white people: you can call people 'white' by @user  #race  #identity #medâ¦</td>\n",
       "    </tr>\n",
       "    <tr>\n",
       "      <th>79</th>\n",
       "      <td>0</td>\n",
       "      <td>@user @user you might be. just have not shown here today. regurgitated talking points and name calling?</td>\n",
       "    </tr>\n",
       "    <tr>\n",
       "      <th>80</th>\n",
       "      <td>0</td>\n",
       "      <td>sometimes you have to raise a few brows to raise the bar. #golfstrengthandconditioning   #strong #felixfoisgolf</td>\n",
       "    </tr>\n",
       "    <tr>\n",
       "      <th>81</th>\n",
       "      <td>0</td>\n",
       "      <td>about that ððð #greathonour #careerconvos @user @user</td>\n",
       "    </tr>\n",
       "    <tr>\n",
       "      <th>82</th>\n",
       "      <td>0</td>\n",
       "      <td>@user designing #innovative learning space @user to include #wateringhole #cave #mountaintop #campfire @user   hâ¦</td>\n",
       "    </tr>\n",
       "    <tr>\n",
       "      <th>83</th>\n",
       "      <td>1</td>\n",
       "      <td>how the #altright uses  &amp;amp; insecurity to lure men into #whitesupremacy</td>\n",
       "    </tr>\n",
       "    <tr>\n",
       "      <th>84</th>\n",
       "      <td>0</td>\n",
       "      <td>carrying a gun wouldn't of helped if you can't take it in with you. gun control won't stop the black market! terrorism will get worse!</td>\n",
       "    </tr>\n",
       "    <tr>\n",
       "      <th>85</th>\n",
       "      <td>0</td>\n",
       "      <td>use the power of your mind to #heal your body!! -     #altwaystoheal #healthy   #peace!</td>\n",
       "    </tr>\n",
       "    <tr>\n",
       "      <th>86</th>\n",
       "      <td>0</td>\n",
       "      <td>woohoo!! just over 5 weeks to go!</td>\n",
       "    </tr>\n",
       "    <tr>\n",
       "      <th>87</th>\n",
       "      <td>0</td>\n",
       "      <td>being in a far away place where you have no family members hus</td>\n",
       "    </tr>\n",
       "    <tr>\n",
       "      <th>88</th>\n",
       "      <td>0</td>\n",
       "      <td>ready to rehearse tonight with new music and new videos, look out for the announcement! #midweek #newmusic #watchthisspace #guitar</td>\n",
       "    </tr>\n",
       "    <tr>\n",
       "      <th>89</th>\n",
       "      <td>0</td>\n",
       "      <td>now on monday nights at 8pm on #up channel!!!! i finally get to see what all the fuss is about!!!</td>\n",
       "    </tr>\n",
       "    <tr>\n",
       "      <th>90</th>\n",
       "      <td>0</td>\n",
       "      <td>watching the new episodes of @user on @user</td>\n",
       "    </tr>\n",
       "    <tr>\n",
       "      <th>91</th>\n",
       "      <td>0</td>\n",
       "      <td>@user offline now after a very nice and long night.. ð #snapchat @user   #redhead #vermillionred</td>\n",
       "    </tr>\n",
       "    <tr>\n",
       "      <th>92</th>\n",
       "      <td>0</td>\n",
       "      <td>15 things incredibly   #people do</td>\n",
       "    </tr>\n",
       "    <tr>\n",
       "      <th>93</th>\n",
       "      <td>0</td>\n",
       "      <td>yes! received my acceptance letter for my masters so will be back at @user again in october!    #goodtimes #history</td>\n",
       "    </tr>\n",
       "    <tr>\n",
       "      <th>94</th>\n",
       "      <td>0</td>\n",
       "      <td>daughter riding her bike around driveway, son playing his guitar for us while we enjoy ðº by the campfire... #summeime   #memories</td>\n",
       "    </tr>\n",
       "    <tr>\n",
       "      <th>95</th>\n",
       "      <td>0</td>\n",
       "      <td>omg!!! loving this station!!! way to jam out at work!!! while getting work done of course!!!!   #memories @user</td>\n",
       "    </tr>\n",
       "    <tr>\n",
       "      <th>96</th>\n",
       "      <td>0</td>\n",
       "      <td>@user i'll always hope that one day i'll get to hug you, but i don't think that it's gonna happen anytime soon...</td>\n",
       "    </tr>\n",
       "    <tr>\n",
       "      <th>97</th>\n",
       "      <td>0</td>\n",
       "      <td>#model   i love u take with u all the time in urð±!!! ððððð¦ð¦ð¦</td>\n",
       "    </tr>\n",
       "    <tr>\n",
       "      <th>98</th>\n",
       "      <td>0</td>\n",
       "      <td>couple having sex fat naked japanese girls</td>\n",
       "    </tr>\n",
       "    <tr>\n",
       "      <th>99</th>\n",
       "      <td>0</td>\n",
       "      <td>#hump on that    #hump day #humpersð© @ edwardsville, pennsylvania</td>\n",
       "    </tr>\n",
       "    <tr>\n",
       "      <th>100</th>\n",
       "      <td>0</td>\n",
       "      <td>personalised we... gbp 7.99 get here:  #shop #cool   #home #fun</td>\n",
       "    </tr>\n",
       "  </tbody>\n",
       "</table>\n",
       "</div>"
      ],
      "text/plain": [
       "     label  \\\n",
       "id           \n",
       "1        0   \n",
       "2        0   \n",
       "3        0   \n",
       "4        0   \n",
       "5        0   \n",
       "6        0   \n",
       "7        0   \n",
       "8        0   \n",
       "9        0   \n",
       "10       0   \n",
       "11       0   \n",
       "12       0   \n",
       "13       0   \n",
       "14       1   \n",
       "15       1   \n",
       "16       0   \n",
       "17       0   \n",
       "18       1   \n",
       "19       0   \n",
       "20       0   \n",
       "21       0   \n",
       "22       0   \n",
       "23       0   \n",
       "24       1   \n",
       "25       0   \n",
       "26       0   \n",
       "27       0   \n",
       "28       0   \n",
       "29       0   \n",
       "30       0   \n",
       "31       0   \n",
       "32       0   \n",
       "33       0   \n",
       "34       0   \n",
       "35       1   \n",
       "36       0   \n",
       "37       0   \n",
       "38       0   \n",
       "39       0   \n",
       "40       0   \n",
       "41       0   \n",
       "42       0   \n",
       "43       0   \n",
       "44       0   \n",
       "45       0   \n",
       "46       0   \n",
       "47       0   \n",
       "48       0   \n",
       "49       0   \n",
       "50       0   \n",
       "51       0   \n",
       "52       0   \n",
       "53       0   \n",
       "54       0   \n",
       "55       0   \n",
       "56       0   \n",
       "57       1   \n",
       "58       0   \n",
       "59       0   \n",
       "60       0   \n",
       "61       0   \n",
       "62       0   \n",
       "63       0   \n",
       "64       0   \n",
       "65       0   \n",
       "66       0   \n",
       "67       0   \n",
       "68       0   \n",
       "69       1   \n",
       "70       0   \n",
       "71       0   \n",
       "72       0   \n",
       "73       0   \n",
       "74       0   \n",
       "75       0   \n",
       "76       0   \n",
       "77       0   \n",
       "78       1   \n",
       "79       0   \n",
       "80       0   \n",
       "81       0   \n",
       "82       0   \n",
       "83       1   \n",
       "84       0   \n",
       "85       0   \n",
       "86       0   \n",
       "87       0   \n",
       "88       0   \n",
       "89       0   \n",
       "90       0   \n",
       "91       0   \n",
       "92       0   \n",
       "93       0   \n",
       "94       0   \n",
       "95       0   \n",
       "96       0   \n",
       "97       0   \n",
       "98       0   \n",
       "99       0   \n",
       "100      0   \n",
       "\n",
       "                                                                                                                                               tweet  \n",
       "id                                                                                                                                                    \n",
       "1                                              @user when a father is dysfunctional and is so selfish he drags his kids into his dysfunction.   #run  \n",
       "2                         @user @user thanks for #lyft credit i can't use cause they don't offer wheelchair vans in pdx.    #disapointed #getthanked  \n",
       "3                                                                                                                                bihday your majesty  \n",
       "4                                                               #model   i love u take with u all the time in urð±!!! ðððð\n",
       "ð¦ð¦ð¦  \n",
       "5                                                                                                             factsguide: society now    #motivation  \n",
       "6                                 [2/2] huge fan fare and big talking before they leave. chaos and pay disputes when they get there. #allshowandnogo  \n",
       "7                                                                          @user camping tomorrow @user @user @user @user @user @user @user dannyâ¦  \n",
       "8    the next school year is the year for exams.ð¯ can't think about that ð­ #school #exams   #hate #imagine #actorslife #revolutionschool #girl  \n",
       "9                                                             we won!!! love the land!!! #allin #cavs #champions #cleveland #clevelandcavaliers  â¦  \n",
       "10                                                                                                  @user @user welcome here !  i'm   it's so #gr8 !  \n",
       "11                                    â #ireland consumer price index (mom) climbed from previous 0.2% to 0.5% in may   #blog #silver #gold #forex  \n",
       "12             we are so selfish. #orlando #standwithorlando #pulseshooting #orlandoshooting #biggerproblems #selfish #heabreaking   #values #love #  \n",
       "13                                                                                               i get to see my daddy today!!   #80days #gettingfed  \n",
       "14                                                                          @user #cnn calls #michigan middle school 'build the wall' chant '' #tcot  \n",
       "15                                             no comment!  in #australia   #opkillingbay #seashepherd #helpcovedolphins #thecove  #helpcovedolphins  \n",
       "16                                                                                           ouch...junior is angryð#got7 #junior #yugyoem   #omg  \n",
       "17                                                                                             i am thankful for having a paner. #thankful #positive  \n",
       "18                                                                                                                             retweet if you agree!  \n",
       "19                                                                       its #friday! ð smiles all around via ig user: @user #cookies make people  \n",
       "20                                                                                        as we all know, essential oils are not made of chemicals.   \n",
       "21                     #euro2016 people blaming ha for conceded goal was it fat rooney who gave away free kick knowing bale can hit them from there.  \n",
       "22                                                                             sad little dude..   #badday #coneofshame #cats #pissed #funny #laughs  \n",
       "23                                              product of the day: happy man #wine tool  who's   it's the #weekend? time to open up &amp; drink up!  \n",
       "24                                                                                                   @user @user lumpy says i am a . prove it lumpy.  \n",
       "25                                                    @user #tgif   #ff to my #gamedev #indiedev #indiegamedev #squad! @user @user @user @user @user  \n",
       "26                                                                    beautiful sign by vendor 80 for $45.00!! #upsideofflorida #shopalyssas   #love  \n",
       "27                     @user all #smiles when #media is   !! ðð #pressconference in #antalya #turkey ! sunday #throwback  love! ððâ¤ï¸  \n",
       "28                                                                          we had a great panel on the mediatization of the public service   #ica16  \n",
       "29                                                                                                         happy father's day @user ðððð  \n",
       "30           50 people went to nightclub to have a good night and 1 man's actions means those people are lost to their families forever #rip#orlando  \n",
       "31                       i have never had a chance to vote for a presidential candidate i was excited about and this cycle looks to be no different.  \n",
       "32                                                              #alohafriday #time does #not #exist #positivevibes #hawaiian @user @user @user @user  \n",
       "33                         @user rip to the fellow nohern ireland fan who sadley passed away tonight!.. gawa, forever singing and cheering on fire    \n",
       "34                                          it was a hard monday due to cloudy weather. disabling oxygen production for today. #goodnight #badmonday  \n",
       "35                                           it's unbelievable that in the 21st century we'd need something like this. again. #neverump  #xenophobia  \n",
       "36                                      #taylorswift1989   bull up: you will dominate your bull and you will direct it whatever you want it to do. w  \n",
       "37                                                                                                     morning~~ #travelingram #dalat   #ripinkylife  \n",
       "38                      @user once more only one word tells it all: #photoshop.  #enoughisenough #dontphotoshopeverything #wheresallthenaturalphotos  \n",
       "39                                                   oh, #cedarpoint. waited 2 hours in the valravn line and it stopped working. we were so close.    \n",
       "40                                                                                                   i am thankful for sunshine. #thankful #positive  \n",
       "41                                                  when you finally finish a book you've been working on for awhile...  #bookworm #ontothenextnovel  \n",
       "42                                          yup, being a knicks fan is hard, so its easier to just be an nba fan when the playoffs roll around ð   \n",
       "43                                                                                       there is life after social networking. embrace each day. be  \n",
       "44                                                              my mom shares the same bihday as @user   bihday snake! see you this weekend ðð¼  \n",
       "45                                                      lovely echeveria blooms#flowers #grow #gardening #iphonesia #bliss #blooms #basilicabotanica  \n",
       "46                                                                                                        i am amazing. #i_am #positive #affirmation  \n",
       "47                                                              #model   i love u take with u all the time in urð±!!! ðððð\n",
       "ð¦ð¦ð¦  \n",
       "48                                                                                                      #whenever im   and #something goes #wrong  |  \n",
       "49                                                                                                                        feeling blue #illustration  \n",
       "50                                                                            the best pa about life is knowing who you are! ðâï¸ð¼ð»  â¦  \n",
       "51                                                                        #abc2020 getting ready 2 remove the victums frm #pulseclub #prayfororlando  \n",
       "52                                          for her #bihday we got her a #nose #job @user  ðð¶ððð    #bihday #petunia we love you ð  \n",
       "53                                                                           off to concelebrate at the #albanpilgrimage for the first time.   @user  \n",
       "54                                                                                                             @user let the scum-baggery begin.....  \n",
       "55                                                      thank you! ðð super love it! â¤ï¸ zpamdelacruz   #wedding# @ dolores, capas tarlac.   \n",
       "56                                                                               a scourge on those playing baroque pieces on piano    beyond belief  \n",
       "57                                                                                                            @user lets fight against  #love #peace  \n",
       "58                                                            happy fatherâs day, mr. rayos #video   #fathers #day #rayos #world #hotvideo #videos  \n",
       "59                                                 @user ascot times with this babe â¤ï¸â¤ï¸ #ascot #fashion #monochrome #style   #instahappyday  \n",
       "60                                                                       the weekend..is here!!ððððð #selfie   #yolo #xoxo #like4like  \n",
       "61                                          happy at work conference: right' mindset leads to culture-of-development organizations    #work #mindset  \n",
       "62                                      christina grimmie's  last performance before being shot...  via @user #christinarip #voice #christinagrimmie  \n",
       "63                                                                                   we are ready to dance #roar #preschoolers   #students #proudâ¦  \n",
       "64                                                                                                                   you've really hu my feelings :(  \n",
       "65                   @user my wife whom i adore had to miss your poland show because she had surgery. her name is bridget &amp; she's my everything.  \n",
       "66                                                                                              @user i am so jealous of you right now.... #chatiado  \n",
       "67                                                                         i celebrate every man that has played it's fatherly role.   father's day#  \n",
       "68                                                                               i'm sure they are just as happy.... ðð½ðð½ðð½   hour  \n",
       "69                                      ð©the white establishment can't have blk folx running around loving themselves and promoting our greatness  \n",
       "70                                                    good morning! the journey begins! ððð»ð³   #travel #yeah #thejourneybegins #helloâ¦  \n",
       "71                                                                            @user # if you #luv #hottweets like this from â¶ â¥#venusexchangeâ¥  \n",
       "72                                                                                 our new brochures have arrived! how exciting!! #aworks #solutions  \n",
       "73                              so much stuff happening in florida! first #orlando shooting and now #disneygatorattack on a two year old kidð¥ð  \n",
       "74                  @user ferrari will do itðªð¼ for the sake of the championship. this gp is clearly a turning point rb, ferrari,mercs...ð    \n",
       "75                                                                                                                      aced my first test!   #proud  \n",
       "76                                                                           seeks probe into #udtapunjab' leak, points finger at #amarinder, #aap    \n",
       "77                                                                                  @user wrapping up #senseaboutmaths @user 6th   @user @user @user  \n",
       "78                                                           @user hey, white people: you can call people 'white' by @user  #race  #identity #medâ¦  \n",
       "79                                           @user @user you might be. just have not shown here today. regurgitated talking points and name calling?  \n",
       "80                                   sometimes you have to raise a few brows to raise the bar. #golfstrengthandconditioning   #strong #felixfoisgolf  \n",
       "81                                                                                    about that ððð #greathonour #careerconvos @user @user  \n",
       "82                               @user designing #innovative learning space @user to include #wateringhole #cave #mountaintop #campfire @user   hâ¦  \n",
       "83                                                                         how the #altright uses  &amp; insecurity to lure men into #whitesupremacy  \n",
       "84            carrying a gun wouldn't of helped if you can't take it in with you. gun control won't stop the black market! terrorism will get worse!  \n",
       "85                                                           use the power of your mind to #heal your body!! -     #altwaystoheal #healthy   #peace!  \n",
       "86                                                                                                                 woohoo!! just over 5 weeks to go!  \n",
       "87                                                                                    being in a far away place where you have no family members hus  \n",
       "88              ready to rehearse tonight with new music and new videos, look out for the announcement! #midweek #newmusic #watchthisspace #guitar    \n",
       "89                                                 now on monday nights at 8pm on #up channel!!!! i finally get to see what all the fuss is about!!!  \n",
       "90                                                                                                       watching the new episodes of @user on @user  \n",
       "91                                               @user offline now after a very nice and long night.. ð #snapchat @user   #redhead #vermillionred  \n",
       "92                                                                                                                 15 things incredibly   #people do  \n",
       "93                               yes! received my acceptance letter for my masters so will be back at @user again in october!    #goodtimes #history  \n",
       "94              daughter riding her bike around driveway, son playing his guitar for us while we enjoy ðº by the campfire... #summeime   #memories  \n",
       "95                                   omg!!! loving this station!!! way to jam out at work!!! while getting work done of course!!!!   #memories @user  \n",
       "96                                @user i'll always hope that one day i'll get to hug you, but i don't think that it's gonna happen anytime soon...   \n",
       "97                                                              #model   i love u take with u all the time in urð±!!! ðððð\n",
       "ð¦ð¦ð¦  \n",
       "98                                                                                                        couple having sex fat naked japanese girls  \n",
       "99                                                                             #hump on that    #hump day #humpersð© @ edwardsville, pennsylvania   \n",
       "100                                                                                  personalised we... gbp 7.99 get here:  #shop #cool   #home #fun  "
      ]
     },
     "execution_count": 3,
     "metadata": {},
     "output_type": "execute_result"
    }
   ],
   "source": [
    "df = pd.read_csv(\"Hate Speech.tsv\", sep= \"\\t\", index_col='id')\n",
    "df.head(100)"
   ]
  },
  {
   "cell_type": "code",
   "execution_count": 50,
   "metadata": {},
   "outputs": [
    {
     "data": {
      "text/html": [
       "<style type=\"text/css\">\n",
       "#T_cd35b_row0_col0, #T_cd35b_row0_col1, #T_cd35b_row1_col0, #T_cd35b_row1_col1, #T_cd35b_row2_col0, #T_cd35b_row2_col1, #T_cd35b_row3_col0, #T_cd35b_row3_col1, #T_cd35b_row4_col0, #T_cd35b_row4_col1 {\n",
       "  background-color: #47af47;\n",
       "}\n",
       "#T_cd35b_row5_col0, #T_cd35b_row5_col1, #T_cd35b_row6_col0, #T_cd35b_row6_col1, #T_cd35b_row7_col0, #T_cd35b_row7_col1, #T_cd35b_row8_col0, #T_cd35b_row8_col1, #T_cd35b_row9_col0, #T_cd35b_row9_col1 {\n",
       "  background-color: #ff5151;\n",
       "}\n",
       "</style>\n",
       "<table id=\"T_cd35b\">\n",
       "  <thead>\n",
       "    <tr>\n",
       "      <th class=\"blank level0\" >&nbsp;</th>\n",
       "      <th id=\"T_cd35b_level0_col0\" class=\"col_heading level0 col0\" >label</th>\n",
       "      <th id=\"T_cd35b_level0_col1\" class=\"col_heading level0 col1\" >tweet</th>\n",
       "    </tr>\n",
       "    <tr>\n",
       "      <th class=\"index_name level0\" >id</th>\n",
       "      <th class=\"blank col0\" >&nbsp;</th>\n",
       "      <th class=\"blank col1\" >&nbsp;</th>\n",
       "    </tr>\n",
       "  </thead>\n",
       "  <tbody>\n",
       "    <tr>\n",
       "      <th id=\"T_cd35b_level0_row0\" class=\"row_heading level0 row0\" >2273</th>\n",
       "      <td id=\"T_cd35b_row0_col0\" class=\"data row0 col0\" >0</td>\n",
       "      <td id=\"T_cd35b_row0_col1\" class=\"data row0 col1\" >happy friday angels !!   #deckedupbeauties #tgif   #friday #goodmorning #flowers #yellowâ¦</td>\n",
       "    </tr>\n",
       "    <tr>\n",
       "      <th id=\"T_cd35b_level0_row1\" class=\"row_heading level0 row1\" >28125</th>\n",
       "      <td id=\"T_cd35b_row1_col0\" class=\"data row1 col0\" >0</td>\n",
       "      <td id=\"T_cd35b_row1_col1\" class=\"data row1 col1\" >dads paying for me and scott to go on a cruise. cool. #honeymoon</td>\n",
       "    </tr>\n",
       "    <tr>\n",
       "      <th id=\"T_cd35b_level0_row2\" class=\"row_heading level0 row2\" >29164</th>\n",
       "      <td id=\"T_cd35b_row2_col0\" class=\"data row2 col0\" >0</td>\n",
       "      <td id=\"T_cd35b_row2_col1\" class=\"data row2 col1\" >color run 2016â¤ï¸ððð #thecolorrun #color   #pay #people #denmark #conce #running #summer</td>\n",
       "    </tr>\n",
       "    <tr>\n",
       "      <th id=\"T_cd35b_level0_row3\" class=\"row_heading level0 row3\" >8159</th>\n",
       "      <td id=\"T_cd35b_row3_col0\" class=\"data row3 col0\" >0</td>\n",
       "      <td id=\"T_cd35b_row3_col1\" class=\"data row3 col1\" >@user me, i need another tattoo,  but we can't because i'm from perÃº  .</td>\n",
       "    </tr>\n",
       "    <tr>\n",
       "      <th id=\"T_cd35b_level0_row4\" class=\"row_heading level0 row4\" >15883</th>\n",
       "      <td id=\"T_cd35b_row4_col0\" class=\"data row4 col0\" >0</td>\n",
       "      <td id=\"T_cd35b_row4_col1\" class=\"data row4 col1\" >i am marvelous.#i_am #positive #affirmation</td>\n",
       "    </tr>\n",
       "    <tr>\n",
       "      <th id=\"T_cd35b_level0_row5\" class=\"row_heading level0 row5\" >16932</th>\n",
       "      <td id=\"T_cd35b_row5_col0\" class=\"data row5 col0\" >1</td>\n",
       "      <td id=\"T_cd35b_row5_col1\" class=\"data row5 col1\" >@user if you are one of the 64.2 mil #americans who rejected  , #bigotry &amp; #hatred fly your flag half mast on jan.â¦ </td>\n",
       "    </tr>\n",
       "    <tr>\n",
       "      <th id=\"T_cd35b_level0_row6\" class=\"row_heading level0 row6\" >24028</th>\n",
       "      <td id=\"T_cd35b_row6_col0\" class=\"data row6 col0\" >1</td>\n",
       "      <td id=\"T_cd35b_row6_col1\" class=\"data row6 col1\" >@user - special message for @user ! it's not your land either .. #trump  #trumpsamerica #day1â¦</td>\n",
       "    </tr>\n",
       "    <tr>\n",
       "      <th id=\"T_cd35b_level0_row7\" class=\"row_heading level0 row7\" >24646</th>\n",
       "      <td id=\"T_cd35b_row7_col0\" class=\"data row7 col0\" >1</td>\n",
       "      <td id=\"T_cd35b_row7_col1\" class=\"data row7 col1\" >he must think people are really stupid; otherwise, why would he lie so blatantly?  should neve be tolerateâ¦ </td>\n",
       "    </tr>\n",
       "    <tr>\n",
       "      <th id=\"T_cd35b_level0_row8\" class=\"row_heading level0 row8\" >21257</th>\n",
       "      <td id=\"T_cd35b_row8_col0\" class=\"data row8 col0\" >1</td>\n",
       "      <td id=\"T_cd35b_row8_col1\" class=\"data row8 col1\" >who pulled his chain?? #stoptalking you  sob!  #auspol</td>\n",
       "    </tr>\n",
       "    <tr>\n",
       "      <th id=\"T_cd35b_level0_row9\" class=\"row_heading level0 row9\" >31961</th>\n",
       "      <td id=\"T_cd35b_row9_col0\" class=\"data row9 col0\" >1</td>\n",
       "      <td id=\"T_cd35b_row9_col1\" class=\"data row9 col1\" >@user #sikh #temple vandalised in in #calgary, #wso condemns  act  </td>\n",
       "    </tr>\n",
       "  </tbody>\n",
       "</table>\n"
      ],
      "text/plain": [
       "<pandas.io.formats.style.Styler at 0x1b1277fde10>"
      ]
     },
     "execution_count": 50,
     "metadata": {},
     "output_type": "execute_result"
    }
   ],
   "source": [
    "def highlight_col(x, df):\n",
    "    mask = df['label'] == 0 \n",
    "    mask2 = df['label'] == 1  \n",
    "    x = pd.DataFrame('', index=df.index, columns=df.columns)\n",
    "    x.loc[mask] = 'background-color: #47af47'\n",
    "    x.loc[mask2] = 'background-color: #ff5151'\n",
    "    return x    \n",
    "\n",
    "pd.set_option('display.max_colwidth', 100000)\n",
    "positive_samples = df[df['label'] == 0].sample(5)\n",
    "negative_samples = df[df['label'] == 1].sample(5)\n",
    "df_tmp = pd.concat([positive_samples, negative_samples])\n",
    "df_tmp.style.apply(lambda x: highlight_col(x, df_tmp), axis=None)"
   ]
  },
  {
   "cell_type": "code",
   "execution_count": 51,
   "metadata": {},
   "outputs": [
    {
     "data": {
      "text/plain": [
       "label    31535\n",
       "tweet    31535\n",
       "dtype: int64"
      ]
     },
     "execution_count": 51,
     "metadata": {},
     "output_type": "execute_result"
    }
   ],
   "source": [
    "df.count()"
   ]
  },
  {
   "cell_type": "markdown",
   "metadata": {},
   "source": [
    "# `02` **Data splitting**"
   ]
  },
  {
   "cell_type": "markdown",
   "metadata": {},
   "source": [
    "- It is a good practice to split the data before EDA helps maintain the integrity of the machine learning process, prevents data leakage, simulates real-world scenarios more accurately, and ensures reliable model performance evaluation on unseen data."
   ]
  },
  {
   "cell_type": "code",
   "execution_count": 57,
   "metadata": {},
   "outputs": [],
   "source": [
    "X = df['tweet']\n",
    "y = df['label'] \n",
    "\n",
    "X_train, X_test, y_train, y_test = train_test_split(X, y, test_size=0.2, random_state=1234, stratify=y)"
   ]
  },
  {
   "cell_type": "code",
   "execution_count": 58,
   "metadata": {},
   "outputs": [
    {
     "data": {
      "text/plain": [
       "((25228,), (6307,), (25228,), (6307,))"
      ]
     },
     "execution_count": 58,
     "metadata": {},
     "output_type": "execute_result"
    }
   ],
   "source": [
    "X_train.shape, X_test.shape, y_train.shape, y_test.shape"
   ]
  },
  {
   "cell_type": "markdown",
   "metadata": {
    "id": "hqWVKi_GorxZ"
   },
   "source": [
    "# `03` **EDA on training data**"
   ]
  },
  {
   "cell_type": "markdown",
   "metadata": {
    "id": "R1zxJpFxorxa"
   },
   "source": [
    "- check NaNs"
   ]
  },
  {
   "cell_type": "code",
   "execution_count": 59,
   "metadata": {
    "id": "HVEttSujorxa"
   },
   "outputs": [
    {
     "data": {
      "text/plain": [
       "label    0\n",
       "tweet    0\n",
       "dtype: int64"
      ]
     },
     "execution_count": 59,
     "metadata": {},
     "output_type": "execute_result"
    }
   ],
   "source": [
    "df.isna().sum()"
   ]
  },
  {
   "cell_type": "markdown",
   "metadata": {
    "id": "UwjbzVaIorxb"
   },
   "source": [
    "- check duplicates"
   ]
  },
  {
   "cell_type": "code",
   "execution_count": 60,
   "metadata": {
    "id": "J_FlBWISorxb"
   },
   "outputs": [
    {
     "data": {
      "text/plain": [
       "2404"
      ]
     },
     "execution_count": 60,
     "metadata": {},
     "output_type": "execute_result"
    }
   ],
   "source": [
    "df.duplicated().sum()"
   ]
  },
  {
   "cell_type": "code",
   "execution_count": 61,
   "metadata": {},
   "outputs": [
    {
     "data": {
      "text/plain": [
       "0"
      ]
     },
     "execution_count": 61,
     "metadata": {},
     "output_type": "execute_result"
    }
   ],
   "source": [
    "df.drop_duplicates(inplace=True)\n",
    "df.duplicated().sum()"
   ]
  },
  {
   "cell_type": "markdown",
   "metadata": {
    "id": "YjIBFc35orxc"
   },
   "source": [
    "- show a representative sample of data texts to find out required preprocessing steps"
   ]
  },
  {
   "cell_type": "code",
   "execution_count": 65,
   "metadata": {},
   "outputs": [
    {
     "data": {
      "text/plain": [
       "id\n",
       "1                                               @user when a father is dysfunctional and is so selfish he drags his kids into his dysfunction.   #run\n",
       "2                          @user @user thanks for #lyft credit i can't use cause they don't offer wheelchair vans in pdx.    #disapointed #getthanked\n",
       "3                                                                                                                                 bihday your majesty\n",
       "4                                                                #model   i love u take with u all the time in urð±!!! ðððð\n",
       "ð¦ð¦ð¦\n",
       "5                                                                                                              factsguide: society now    #motivation\n",
       "6                                  [2/2] huge fan fare and big talking before they leave. chaos and pay disputes when they get there. #allshowandnogo\n",
       "7                                                                           @user camping tomorrow @user @user @user @user @user @user @user dannyâ¦\n",
       "8     the next school year is the year for exams.ð¯ can't think about that ð­ #school #exams   #hate #imagine #actorslife #revolutionschool #girl\n",
       "9                                                              we won!!! love the land!!! #allin #cavs #champions #cleveland #clevelandcavaliers  â¦\n",
       "10                                                                                                   @user @user welcome here !  i'm   it's so #gr8 !\n",
       "Name: tweet, dtype: object"
      ]
     },
     "execution_count": 65,
     "metadata": {},
     "output_type": "execute_result"
    }
   ],
   "source": [
    "df[\"tweet\"].head(10)"
   ]
  },
  {
   "cell_type": "markdown",
   "metadata": {},
   "source": [
    "- Lowercase\n",
    "\n",
    "- Remove usernames (@user)\n",
    "\n",
    "- Remove numbers\n",
    "\n",
    "- Remove emojis\n",
    "\n",
    "- Remove URLs\n",
    "\n",
    "- Remove punctuation\n",
    "\n",
    "- Remove stopwords\n"
   ]
  },
  {
   "cell_type": "markdown",
   "metadata": {
    "id": "UqdSUtbdorxd"
   },
   "source": [
    "- check dataset balancing"
   ]
  },
  {
   "cell_type": "code",
   "execution_count": 66,
   "metadata": {},
   "outputs": [
    {
     "data": {
      "text/plain": [
       "label\n",
       "0    27142\n",
       "1     1989\n",
       "Name: count, dtype: int64"
      ]
     },
     "execution_count": 66,
     "metadata": {},
     "output_type": "execute_result"
    }
   ],
   "source": [
    "df['label'].value_counts()"
   ]
  },
  {
   "cell_type": "code",
   "execution_count": 67,
   "metadata": {},
   "outputs": [
    {
     "data": {
      "text/plain": [
       "label\n",
       "0    23458\n",
       "1     1770\n",
       "Name: count, dtype: int64"
      ]
     },
     "execution_count": 67,
     "metadata": {},
     "output_type": "execute_result"
    }
   ],
   "source": [
    "y_train.value_counts()"
   ]
  },
  {
   "cell_type": "code",
   "execution_count": 89,
   "metadata": {},
   "outputs": [
    {
     "data": {
      "image/png": "[encoded data removed]",
      "text/plain": [
       "<Figure size 1500x500 with 2 Axes>"
      ]
     },
     "metadata": {},
     "output_type": "display_data"
    }
   ],
   "source": [
    "plt.figure(figsize=(15,5))\n",
    "\n",
    "plt.subplot(1,2, 1)\n",
    "sns.countplot(x='label', data=df, hue='label', palette='Set2')\n",
    "plt.title('Distribution of Labels in Dataset')\n",
    "plt.subplot(1,2, 2)\n",
    "plt.pie(df['label'].value_counts(), labels=['Not Hate Speech', 'Hate Speech'], autopct='%1.1f%%', startangle=140, colors=['#47af47', '#ff5151'])\n",
    "plt.axis('equal')\n",
    "plt.show()"
   ]
  },
  {
   "cell_type": "markdown",
   "metadata": {},
   "source": [
    "- imbalanced dataset"
   ]
  },
  {
   "cell_type": "markdown",
   "metadata": {
    "id": "XyJkqK9gorxe"
   },
   "source": [
    "# `04` **Cleaning and Preprocessing**"
   ]
  },
  {
   "cell_type": "code",
   "execution_count": 90,
   "metadata": {},
   "outputs": [],
   "source": [
    "from sklearn.base import BaseEstimator, TransformerMixin\n",
    "\n",
    "class CustomTransformer(BaseEstimator, TransformerMixin):\n",
    "    def __init__(self):\n",
    "        self.stop_words = set(nltk.corpus.stopwords.words('english'))\n",
    "        self.lemmatizer = WordNetLemmatizer()\n",
    "        \n",
    "        # Add any initialization code here\n",
    "    \n",
    "    def fit(self, X, y=None):\n",
    "        # Add code for fitting the transformer here\n",
    "        return X\n",
    "    \n",
    "    def clean_text(self, text):\n",
    "        # Add code for cleaning the text here\n",
    "        text = text.lower()\n",
    "        text = re.sub(r\"\\d+\", \"\", text)  # remove numbers\n",
    "        text = re.sub(r\"http\\S+|www\\S+|https\\S+\", \"\", text)  # remove URLs\n",
    "        text = re.sub(r\"[^\\w\\s]\", \"\", text)  # remove punctuation\n",
    "        text = re.sub(r\"\\s+\", \" \", text)  # remove extra spaces\n",
    "        text = re.sub(r\"@\\w+\", \"\", text)  # remove mentions\n",
    "        text = text.encode('ascii', 'ignore').decode('ascii') # remove emojis and special characters\n",
    "        text = word_tokenize(text)\n",
    "        text = [word for word in text if word not in self.stop_words]\n",
    "        text = [self.lemmatizer.lemmatize(word) for word in text]\n",
    "        return text\n",
    "\n",
    "    def transform(self, X):\n",
    "        # Add code for transforming the data here\n",
    "        transformed_X = X.copy()  # Example: Just copying the data\n",
    "        transformed_X = transformed_X.apply(self.clean_text)  # Apply the cleaning function to each row\n",
    "        transformed_X = transformed_X.apply(lambda x: ' '.join(x))\n",
    "        return transformed_X\n",
    "    \n",
    "    def fit_transform(self, X, y=None):\n",
    "        # This function combines fit and transform\n",
    "        self.fit(X, y)\n",
    "        return self.transform(X)"
   ]
  },
  {
   "cell_type": "markdown",
   "metadata": {
    "id": "R9BhRQbYorxf"
   },
   "source": [
    "# `05` **Traditional Modeling**\n",
    "- **TD-IDF(Unigram - Bigram)**\n",
    "- **Bag of words (BOW)**"
   ]
  },
  {
   "cell_type": "markdown",
   "metadata": {},
   "source": [
    "## **TDIDF Unigram**"
   ]
  },
  {
   "cell_type": "code",
   "execution_count": 91,
   "metadata": {
    "tags": []
   },
   "outputs": [],
   "source": [
    "model = LogisticRegression()\n",
    "\n",
    "pipeline = Pipeline(steps=[\n",
    "    ('preprocessing', CustomTransformer()),\n",
    "    ('Vectorizing', TfidfVectorizer()),\n",
    "    ('model', model),\n",
    "])"
   ]
  },
  {
   "cell_type": "code",
   "execution_count": 92,
   "metadata": {},
   "outputs": [
    {
     "name": "stdout",
     "output_type": "stream",
     "text": [
      "              precision    recall  f1-score   support\n",
      "\n",
      "           0       0.95      1.00      0.97      5864\n",
      "           1       0.87      0.28      0.43       443\n",
      "\n",
      "    accuracy                           0.95      6307\n",
      "   macro avg       0.91      0.64      0.70      6307\n",
      "weighted avg       0.94      0.95      0.93      6307\n",
      "\n"
     ]
    }
   ],
   "source": [
    "pipeline.fit(X_train, y_train)\n",
    "y_pred = pipeline.predict(X_test)\n",
    "print(classification_report(y_test, y_pred))"
   ]
  },
  {
   "cell_type": "code",
   "execution_count": 93,
   "metadata": {},
   "outputs": [
    {
     "data": {
      "image/png": "[encoded data removed]",
      "text/plain": [
       "<Figure size 640x480 with 2 Axes>"
      ]
     },
     "metadata": {},
     "output_type": "display_data"
    }
   ],
   "source": [
    "sns.heatmap(confusion_matrix(y_test, y_pred), annot=True, fmt='d', cmap='magma', xticklabels=['Not Hate Speech', ' Hate Speech'], yticklabels=['Not Hate Speech', ' Hate Speech'])\n",
    "plt.xlabel('Predicted')\n",
    "plt.ylabel('Actual')\n",
    "plt.show()"
   ]
  },
  {
   "cell_type": "markdown",
   "metadata": {},
   "source": [
    "#### Evaluation"
   ]
  },
  {
   "cell_type": "markdown",
   "metadata": {},
   "source": [
    "**Evaluation metric:**\n",
    "macro f1 score\n",
    "\n",
    "Macro F1 score is a useful metric in scenarios where you want to evaluate the overall performance of a multi-class classification model, **particularly when the classes are imbalanced**"
   ]
  },
  {
   "cell_type": "markdown",
   "metadata": {},
   "source": [
    "![Calculation](https://assets-global.website-files.com/5d7b77b063a9066d83e1209c/639c3d934e82c1195cdf3c60_macro-f1.webp)"
   ]
  },
  {
   "cell_type": "code",
   "execution_count": 94,
   "metadata": {},
   "outputs": [
    {
     "name": "stdout",
     "output_type": "stream",
     "text": [
      "Macro F1 Score: 0.6993431708266604\n"
     ]
    }
   ],
   "source": [
    "macro_f1 = f1_score(y_test, y_pred, average='macro')\n",
    "print(f\"Macro F1 Score: {macro_f1}\")\n"
   ]
  },
  {
   "cell_type": "markdown",
   "metadata": {},
   "source": [
    "## **TDIDF Bigram**"
   ]
  },
  {
   "cell_type": "code",
   "execution_count": 18,
   "metadata": {
    "id": "Y4h1Danvorxh"
   },
   "outputs": [],
   "source": [
    "model = LogisticRegression()\n",
    "\n",
    "pipeline = Pipeline(steps=[\n",
    "    ('preprocessing', CustomTransformer()),\n",
    "    ('Vectorizing', TfidfVectorizer(ngram_range=(1,2))),\n",
    "    ('model', model),\n",
    "])"
   ]
  },
  {
   "cell_type": "code",
   "execution_count": 19,
   "metadata": {
    "id": "ZDsCjdqsorxi"
   },
   "outputs": [
    {
     "name": "stdout",
     "output_type": "stream",
     "text": [
      "              precision    recall  f1-score   support\n",
      "\n",
      "           0       0.95      1.00      0.97      5880\n",
      "           1       0.90      0.27      0.41       427\n",
      "\n",
      "    accuracy                           0.95      6307\n",
      "   macro avg       0.92      0.63      0.69      6307\n",
      "weighted avg       0.95      0.95      0.93      6307\n",
      "\n"
     ]
    }
   ],
   "source": [
    "pipeline.fit(X_train, y_train)\n",
    "y_pred = pipeline.predict(X_test)\n",
    "print(classification_report(y_test, y_pred))"
   ]
  },
  {
   "cell_type": "code",
   "execution_count": 20,
   "metadata": {},
   "outputs": [
    {
     "data": {
      "image/png": "[encoded data removed]",
      "text/plain": [
       "<Figure size 640x480 with 2 Axes>"
      ]
     },
     "metadata": {},
     "output_type": "display_data"
    }
   ],
   "source": [
    "sns.heatmap(confusion_matrix(y_test, y_pred), annot=True, fmt='d', cmap='magma', xticklabels=['Not Hate Speech', 'Hate Speech'], yticklabels=['Not Hate Speech', ' Hate Speech'])\n",
    "plt.xlabel('Predicted')\n",
    "plt.ylabel('Actual')\n",
    "plt.show()"
   ]
  },
  {
   "cell_type": "code",
   "execution_count": 21,
   "metadata": {},
   "outputs": [
    {
     "name": "stdout",
     "output_type": "stream",
     "text": [
      "Macro F1 Score: 0.6922604187246679\n"
     ]
    }
   ],
   "source": [
    "macro_f1 = f1_score(y_test, y_pred, average='macro')\n",
    "print(f\"Macro F1 Score: {macro_f1}\")"
   ]
  },
  {
   "cell_type": "markdown",
   "metadata": {},
   "source": [
    "- **try N-gram (1,3)**"
   ]
  },
  {
   "cell_type": "code",
   "execution_count": 22,
   "metadata": {},
   "outputs": [],
   "source": [
    "model = LogisticRegression()\n",
    "\n",
    "pipeline = Pipeline(steps=[\n",
    "    ('preprocessing', CustomTransformer()),\n",
    "    ('Vectorizing', TfidfVectorizer(ngram_range=(1,3))),\n",
    "    ('model', model),\n",
    "])"
   ]
  },
  {
   "cell_type": "code",
   "execution_count": 23,
   "metadata": {},
   "outputs": [
    {
     "name": "stdout",
     "output_type": "stream",
     "text": [
      "              precision    recall  f1-score   support\n",
      "\n",
      "           0       0.95      1.00      0.97      5880\n",
      "           1       0.87      0.23      0.36       427\n",
      "\n",
      "    accuracy                           0.95      6307\n",
      "   macro avg       0.91      0.61      0.67      6307\n",
      "weighted avg       0.94      0.95      0.93      6307\n",
      "\n"
     ]
    }
   ],
   "source": [
    "pipeline.fit(X_train, y_train)\n",
    "y_pred = pipeline.predict(X_test)\n",
    "print(classification_report(y_test, y_pred))"
   ]
  },
  {
   "cell_type": "code",
   "execution_count": 24,
   "metadata": {},
   "outputs": [
    {
     "data": {
      "image/png": "[encoded data removed]",
      "text/plain": [
       "<Figure size 640x480 with 2 Axes>"
      ]
     },
     "metadata": {},
     "output_type": "display_data"
    }
   ],
   "source": [
    "sns.heatmap(confusion_matrix(y_test, y_pred), annot=True, fmt='d', cmap='magma', xticklabels=['not Hate Speech', ' Hate Speech'], yticklabels=['Not Hate Speech', ' Hate Speech'])\n",
    "plt.xlabel('Predicted')\n",
    "plt.ylabel('Actual')\n",
    "plt.show()"
   ]
  },
  {
   "cell_type": "code",
   "execution_count": 25,
   "metadata": {},
   "outputs": [
    {
     "name": "stdout",
     "output_type": "stream",
     "text": [
      "Macro F1 Score: 0.666054270906317\n"
     ]
    }
   ],
   "source": [
    "macro_f1 = f1_score(y_test, y_pred, average='macro')\n",
    "print(f\"Macro F1 Score: {macro_f1}\")"
   ]
  },
  {
   "cell_type": "markdown",
   "metadata": {},
   "source": [
    "- **try N-gram (2,2)**"
   ]
  },
  {
   "cell_type": "code",
   "execution_count": 26,
   "metadata": {},
   "outputs": [],
   "source": [
    "model = LogisticRegression()\n",
    "\n",
    "pipeline = Pipeline(steps=[\n",
    "    ('preprocessing', CustomTransformer()),\n",
    "    ('Vectorizing', TfidfVectorizer(ngram_range=(2,2))),\n",
    "    ('model', model),\n",
    "])"
   ]
  },
  {
   "cell_type": "code",
   "execution_count": 27,
   "metadata": {},
   "outputs": [
    {
     "name": "stdout",
     "output_type": "stream",
     "text": [
      "              precision    recall  f1-score   support\n",
      "\n",
      "           0       0.94      1.00      0.97      5880\n",
      "           1       0.87      0.13      0.22       427\n",
      "\n",
      "    accuracy                           0.94      6307\n",
      "   macro avg       0.91      0.56      0.59      6307\n",
      "weighted avg       0.94      0.94      0.92      6307\n",
      "\n"
     ]
    }
   ],
   "source": [
    "pipeline.fit(X_train, y_train)\n",
    "y_pred = pipeline.predict(X_test)\n",
    "print(classification_report(y_test, y_pred))"
   ]
  },
  {
   "cell_type": "code",
   "execution_count": 28,
   "metadata": {},
   "outputs": [
    {
     "data": {
      "image/png": "[encoded data removed]",
      "text/plain": [
       "<Figure size 640x480 with 2 Axes>"
      ]
     },
     "metadata": {},
     "output_type": "display_data"
    }
   ],
   "source": [
    "sns.heatmap(confusion_matrix(y_test, y_pred), annot=True, fmt='d', cmap='magma', xticklabels=['Not Hate Speech', ' Hate Speech'], yticklabels=['Not Hate Speech', ' Hate Speech'])\n",
    "plt.xlabel('Predicted')\n",
    "plt.ylabel('Actual')\n",
    "plt.show()"
   ]
  },
  {
   "cell_type": "code",
   "execution_count": 29,
   "metadata": {},
   "outputs": [
    {
     "name": "stdout",
     "output_type": "stream",
     "text": [
      "Macro F1 Score: 0.5947181076465752\n"
     ]
    }
   ],
   "source": [
    "macro_f1 = f1_score(y_test, y_pred, average='macro')\n",
    "print(f\"Macro F1 Score: {macro_f1}\")"
   ]
  },
  {
   "cell_type": "markdown",
   "metadata": {},
   "source": [
    "## **Bag of Words**"
   ]
  },
  {
   "cell_type": "code",
   "execution_count": 30,
   "metadata": {},
   "outputs": [],
   "source": [
    "model = LogisticRegression()\n",
    "\n",
    "pipeline = Pipeline(steps=[\n",
    "    ('preprocessing', CustomTransformer()),\n",
    "    ('Vectorizing', CountVectorizer()),\n",
    "    ('model', model),\n",
    "])"
   ]
  },
  {
   "cell_type": "code",
   "execution_count": 31,
   "metadata": {},
   "outputs": [
    {
     "name": "stdout",
     "output_type": "stream",
     "text": [
      "              precision    recall  f1-score   support\n",
      "\n",
      "           0       0.97      0.99      0.98      5880\n",
      "           1       0.87      0.52      0.65       427\n",
      "\n",
      "    accuracy                           0.96      6307\n",
      "   macro avg       0.92      0.76      0.82      6307\n",
      "weighted avg       0.96      0.96      0.96      6307\n",
      "\n"
     ]
    }
   ],
   "source": [
    "pipeline.fit(X_train, y_train)\n",
    "y_pred = pipeline.predict(X_test)\n",
    "print(classification_report(y_test, y_pred))"
   ]
  },
  {
   "cell_type": "code",
   "execution_count": 32,
   "metadata": {},
   "outputs": [
    {
     "data": {
      "image/png": "[encoded data removed]",
      "text/plain": [
       "<Figure size 640x480 with 2 Axes>"
      ]
     },
     "metadata": {},
     "output_type": "display_data"
    }
   ],
   "source": [
    "sns.heatmap(confusion_matrix(y_test, y_pred), annot=True, fmt='d', cmap='magma', xticklabels=['Not Hate Speech', ' Hate Speech'], yticklabels=['Not Hate Speech', ' Hate Speech'])\n",
    "plt.xlabel('Predicted')\n",
    "plt.ylabel('Actual')\n",
    "plt.show()"
   ]
  },
  {
   "cell_type": "code",
   "execution_count": 33,
   "metadata": {},
   "outputs": [
    {
     "name": "stdout",
     "output_type": "stream",
     "text": [
      "Macro F1 Score: 0.817090099026448\n"
     ]
    }
   ],
   "source": [
    "macro_f1 = f1_score(y_test, y_pred, average='macro')\n",
    "print(f\"Macro F1 Score: {macro_f1}\")"
   ]
  },
  {
   "cell_type": "code",
   "execution_count": 34,
   "metadata": {},
   "outputs": [],
   "source": [
    "model = LogisticRegression()\n",
    "\n",
    "pipeline = Pipeline(steps=[\n",
    "    ('preprocessing', CustomTransformer()),\n",
    "    ('Vectorizing', CountVectorizer(ngram_range=(1,2))),\n",
    "    ('model', model),\n",
    "])"
   ]
  },
  {
   "cell_type": "code",
   "execution_count": 35,
   "metadata": {},
   "outputs": [
    {
     "name": "stdout",
     "output_type": "stream",
     "text": [
      "              precision    recall  f1-score   support\n",
      "\n",
      "           0       0.97      1.00      0.98      5880\n",
      "           1       0.91      0.52      0.66       427\n",
      "\n",
      "    accuracy                           0.96      6307\n",
      "   macro avg       0.94      0.76      0.82      6307\n",
      "weighted avg       0.96      0.96      0.96      6307\n",
      "\n"
     ]
    }
   ],
   "source": [
    "pipeline.fit(X_train, y_train)\n",
    "y_pred = pipeline.predict(X_test)\n",
    "print(classification_report(y_test, y_pred))"
   ]
  },
  {
   "cell_type": "code",
   "execution_count": 36,
   "metadata": {},
   "outputs": [
    {
     "data": {
      "image/png": "[encoded data removed]",
      "text/plain": [
       "<Figure size 640x480 with 2 Axes>"
      ]
     },
     "metadata": {},
     "output_type": "display_data"
    }
   ],
   "source": [
    "sns.heatmap(confusion_matrix(y_test, y_pred), annot=True, fmt='d', cmap='magma', xticklabels=['Not Hate Speech', ' Hate Speech'], yticklabels=['Not Hate Speech', ' Hate Speech'])\n",
    "plt.xlabel('Predicted')\n",
    "plt.ylabel('Actual')\n",
    "plt.show()"
   ]
  },
  {
   "cell_type": "code",
   "execution_count": 37,
   "metadata": {},
   "outputs": [
    {
     "name": "stdout",
     "output_type": "stream",
     "text": [
      "Macro F1 Score: 0.8213460035516442\n"
     ]
    }
   ],
   "source": [
    "macro_f1 = f1_score(y_test, y_pred, average='macro')\n",
    "print(f\"Macro F1 Score: {macro_f1}\")"
   ]
  },
  {
   "cell_type": "code",
   "execution_count": 38,
   "metadata": {},
   "outputs": [],
   "source": [
    "model = LogisticRegression()\n",
    "\n",
    "pipeline = Pipeline(steps=[\n",
    "    ('preprocessing', CustomTransformer()),\n",
    "    ('Vectorizing', CountVectorizer(ngram_range=(1,3))),\n",
    "    ('model', model),\n",
    "])"
   ]
  },
  {
   "cell_type": "code",
   "execution_count": 39,
   "metadata": {},
   "outputs": [
    {
     "name": "stdout",
     "output_type": "stream",
     "text": [
      "              precision    recall  f1-score   support\n",
      "\n",
      "           0       0.97      1.00      0.98      5880\n",
      "           1       0.93      0.51      0.66       427\n",
      "\n",
      "    accuracy                           0.96      6307\n",
      "   macro avg       0.95      0.75      0.82      6307\n",
      "weighted avg       0.96      0.96      0.96      6307\n",
      "\n"
     ]
    }
   ],
   "source": [
    "pipeline.fit(X_train, y_train)\n",
    "y_pred = pipeline.predict(X_test)\n",
    "print(classification_report(y_test, y_pred))"
   ]
  },
  {
   "cell_type": "code",
   "execution_count": 40,
   "metadata": {},
   "outputs": [
    {
     "data": {
      "image/png": "[encoded data removed]",
      "text/plain": [
       "<Figure size 640x480 with 2 Axes>"
      ]
     },
     "metadata": {},
     "output_type": "display_data"
    }
   ],
   "source": [
    "sns.heatmap(confusion_matrix(y_test, y_pred), annot=True, fmt='d', cmap='magma', xticklabels=['Not Hate Speech', ' Hate Speech'], yticklabels=['Not Hate Speech', ' Hate Speech'])\n",
    "plt.xlabel('Predicted')\n",
    "plt.ylabel('Actual')\n",
    "plt.show()"
   ]
  },
  {
   "cell_type": "code",
   "execution_count": 41,
   "metadata": {},
   "outputs": [
    {
     "name": "stdout",
     "output_type": "stream",
     "text": [
      "Macro F1 Score: 0.819334975993835\n"
     ]
    }
   ],
   "source": [
    "macro_f1 = f1_score(y_test, y_pred, average='macro')\n",
    "print(f\"Macro F1 Score: {macro_f1}\")"
   ]
  },
  {
   "cell_type": "markdown",
   "metadata": {},
   "source": [
    "### Conclusion and final results\n"
   ]
  },
  {
   "cell_type": "markdown",
   "metadata": {},
   "source": [
    "- **BOW is better than Tfidf**"
   ]
  },
  {
   "cell_type": "code",
   "execution_count": 96,
   "metadata": {},
   "outputs": [],
   "source": [
    "model = LogisticRegression()\n",
    "vectorizer = CountVectorizer(ngram_range=(1,2))\n",
    "pipeline = Pipeline(steps=[\n",
    "    ('preprocessing', CustomTransformer()),\n",
    "    ('Vectorizing', vectorizer),\n",
    "    ('model', model),\n",
    "])"
   ]
  },
  {
   "cell_type": "code",
   "execution_count": 47,
   "metadata": {},
   "outputs": [
    {
     "name": "stderr",
     "output_type": "stream",
     "text": [
      "c:\\Users\\Omar Elgema3y\\AppData\\Local\\Programs\\Python\\Python311\\Lib\\site-packages\\sklearn\\model_selection\\_validation.py:528: FitFailedWarning: \n",
      "30 fits failed out of a total of 90.\n",
      "The score on these train-test partitions for these parameters will be set to nan.\n",
      "If these failures are not expected, you can try to debug them by setting error_score='raise'.\n",
      "\n",
      "Below are more details about the failures:\n",
      "--------------------------------------------------------------------------------\n",
      "15 fits failed with the following error:\n",
      "Traceback (most recent call last):\n",
      "  File \"c:\\Users\\Omar Elgema3y\\AppData\\Local\\Programs\\Python\\Python311\\Lib\\site-packages\\sklearn\\model_selection\\_validation.py\", line 866, in _fit_and_score\n",
      "    estimator.fit(X_train, y_train, **fit_params)\n",
      "  File \"c:\\Users\\Omar Elgema3y\\AppData\\Local\\Programs\\Python\\Python311\\Lib\\site-packages\\sklearn\\base.py\", line 1389, in wrapper\n",
      "    return fit_method(estimator, *args, **kwargs)\n",
      "           ^^^^^^^^^^^^^^^^^^^^^^^^^^^^^^^^^^^^^^\n",
      "  File \"c:\\Users\\Omar Elgema3y\\AppData\\Local\\Programs\\Python\\Python311\\Lib\\site-packages\\sklearn\\pipeline.py\", line 662, in fit\n",
      "    self._final_estimator.fit(Xt, y, **last_step_params[\"fit\"])\n",
      "  File \"c:\\Users\\Omar Elgema3y\\AppData\\Local\\Programs\\Python\\Python311\\Lib\\site-packages\\sklearn\\base.py\", line 1389, in wrapper\n",
      "    return fit_method(estimator, *args, **kwargs)\n",
      "           ^^^^^^^^^^^^^^^^^^^^^^^^^^^^^^^^^^^^^^\n",
      "  File \"c:\\Users\\Omar Elgema3y\\AppData\\Local\\Programs\\Python\\Python311\\Lib\\site-packages\\sklearn\\linear_model\\_logistic.py\", line 1193, in fit\n",
      "    solver = _check_solver(self.solver, self.penalty, self.dual)\n",
      "             ^^^^^^^^^^^^^^^^^^^^^^^^^^^^^^^^^^^^^^^^^^^^^^^^^^^\n",
      "  File \"c:\\Users\\Omar Elgema3y\\AppData\\Local\\Programs\\Python\\Python311\\Lib\\site-packages\\sklearn\\linear_model\\_logistic.py\", line 71, in _check_solver\n",
      "    raise ValueError(\n",
      "ValueError: Only 'saga' solver supports elasticnet penalty, got solver=liblinear.\n",
      "\n",
      "--------------------------------------------------------------------------------\n",
      "15 fits failed with the following error:\n",
      "Traceback (most recent call last):\n",
      "  File \"c:\\Users\\Omar Elgema3y\\AppData\\Local\\Programs\\Python\\Python311\\Lib\\site-packages\\sklearn\\model_selection\\_validation.py\", line 866, in _fit_and_score\n",
      "    estimator.fit(X_train, y_train, **fit_params)\n",
      "  File \"c:\\Users\\Omar Elgema3y\\AppData\\Local\\Programs\\Python\\Python311\\Lib\\site-packages\\sklearn\\base.py\", line 1389, in wrapper\n",
      "    return fit_method(estimator, *args, **kwargs)\n",
      "           ^^^^^^^^^^^^^^^^^^^^^^^^^^^^^^^^^^^^^^\n",
      "  File \"c:\\Users\\Omar Elgema3y\\AppData\\Local\\Programs\\Python\\Python311\\Lib\\site-packages\\sklearn\\pipeline.py\", line 662, in fit\n",
      "    self._final_estimator.fit(Xt, y, **last_step_params[\"fit\"])\n",
      "  File \"c:\\Users\\Omar Elgema3y\\AppData\\Local\\Programs\\Python\\Python311\\Lib\\site-packages\\sklearn\\base.py\", line 1389, in wrapper\n",
      "    return fit_method(estimator, *args, **kwargs)\n",
      "           ^^^^^^^^^^^^^^^^^^^^^^^^^^^^^^^^^^^^^^\n",
      "  File \"c:\\Users\\Omar Elgema3y\\AppData\\Local\\Programs\\Python\\Python311\\Lib\\site-packages\\sklearn\\linear_model\\_logistic.py\", line 1203, in fit\n",
      "    raise ValueError(\"l1_ratio must be specified when penalty is elasticnet.\")\n",
      "ValueError: l1_ratio must be specified when penalty is elasticnet.\n",
      "\n",
      "  warnings.warn(some_fits_failed_message, FitFailedWarning)\n",
      "c:\\Users\\Omar Elgema3y\\AppData\\Local\\Programs\\Python\\Python311\\Lib\\site-packages\\sklearn\\model_selection\\_search.py:1108: UserWarning: One or more of the test scores are non-finite: [0.48164129 0.48165194 0.5288394  0.56817307        nan        nan\n",
      " 0.66055089 0.57865245 0.70024027 0.62883672        nan        nan\n",
      " 0.80076874 0.62824867 0.79161859 0.63635291        nan        nan]\n",
      "  warnings.warn(\n"
     ]
    },
    {
     "name": "stdout",
     "output_type": "stream",
     "text": [
      "{'model__C': 1, 'model__penalty': 'l1', 'model__solver': 'liblinear'}\n",
      "Best Score: 0.800768739695527\n"
     ]
    }
   ],
   "source": [
    "grid = {'model__C': [0.01, 0.1, 1],\n",
    "        'model__penalty': ['l1', 'l2', 'elasticnet'],\n",
    "        'model__solver': ['liblinear', 'saga']}    \n",
    "\n",
    "grid_search = GridSearchCV(pipeline, grid, cv=5, scoring='f1_macro', n_jobs=-1)\n",
    "grid_search.fit(X_train, y_train)\n",
    "best_params = grid_search.best_params_\n",
    "print(best_params)\n",
    "best_score = grid_search.best_score_\n",
    "print(f\"Best Score: {best_score}\")\n",
    "best_model = grid_search.best_estimator_\n",
    "y_pred = best_model.predict(X_test)"
   ]
  },
  {
   "cell_type": "code",
   "execution_count": 48,
   "metadata": {},
   "outputs": [
    {
     "name": "stdout",
     "output_type": "stream",
     "text": [
      "              precision    recall  f1-score   support\n",
      "\n",
      "           0       0.97      0.99      0.98      5880\n",
      "           1       0.84      0.54      0.66       427\n",
      "\n",
      "    accuracy                           0.96      6307\n",
      "   macro avg       0.90      0.76      0.82      6307\n",
      "weighted avg       0.96      0.96      0.96      6307\n",
      "\n"
     ]
    },
    {
     "data": {
      "image/png": "[encoded data removed]",
      "text/plain": [
       "<Figure size 640x480 with 2 Axes>"
      ]
     },
     "metadata": {},
     "output_type": "display_data"
    },
    {
     "name": "stdout",
     "output_type": "stream",
     "text": [
      "Macro F1 Score: 0.8174975701154518\n"
     ]
    }
   ],
   "source": [
    "print(classification_report(y_test, y_pred))\n",
    "sns.heatmap(confusion_matrix(y_test, y_pred), annot=True, fmt='d', cmap='magma', xticklabels=['Not Hate Speech', ' Hate Speech'], yticklabels=['Not Hate Speech', ' Hate Speech'])\n",
    "plt.xlabel('Predicted')\n",
    "plt.ylabel('Actual')\n",
    "plt.show()\n",
    "macro_f1 = f1_score(y_test, y_pred, average='macro')\n",
    "print(f\"Macro F1 Score: {macro_f1}\")"
   ]
  },
  {
   "cell_type": "markdown",
   "metadata": {},
   "source": [
    "# `06` **Advanced Modeling**\n",
    "- **Word2Vec**\n",
    "- **Glove**\n",
    "- **Fasttext**\n",
    "- **CNN**"
   ]
  },
  {
   "cell_type": "code",
   "execution_count": null,
   "metadata": {},
   "outputs": [],
   "source": [
    "class word2vec(BaseEstimator, TransformerMixin):\n",
    "    def __init__(self, model_name='en_core_web_md'):\n",
    "        self.model_name = model_name\n",
    "        self.nlp = spacy.load(model_name)\n",
    "\n",
    "    def fit(self, X, y=None):\n",
    "        return X\n",
    "\n",
    "    def transform(self, X):\n",
    "        embeddings = np.zeros((len(X), 300))\n",
    "        for i, doc in enumerate(self.nlp.pipe(X)):\n",
    "            embeddings[i, :] = doc.vector\n",
    "        return embeddings\n",
    "\n",
    "    def fit_transform(self, X, y=None):\n",
    "        self.fit(X, y)\n",
    "        return self.transform(X)"
   ]
  },
  {
   "cell_type": "code",
   "execution_count": 116,
   "metadata": {},
   "outputs": [
    {
     "name": "stdout",
     "output_type": "stream",
     "text": [
      "              precision    recall  f1-score   support\n",
      "\n",
      "           0       0.95      0.99      0.97      5864\n",
      "           1       0.66      0.31      0.43       443\n",
      "\n",
      "    accuracy                           0.94      6307\n",
      "   macro avg       0.80      0.65      0.70      6307\n",
      "weighted avg       0.93      0.94      0.93      6307\n",
      "\n"
     ]
    }
   ],
   "source": [
    "pipeline = Pipeline(steps=[\n",
    "    ('preprocessing', CustomTransformer()),\n",
    "    ('Vectorizing', word2vec()),\n",
    "    ('model', LogisticRegression()),\n",
    "])\n",
    "\n",
    "pipeline.fit(X_train, y_train)\n",
    "y_pred = pipeline.predict(X_test)\n",
    "print(classification_report(y_test, y_pred))"
   ]
  },
  {
   "cell_type": "code",
   "execution_count": 117,
   "metadata": {},
   "outputs": [
    {
     "data": {
      "image/png": "[encoded data removed]",
      "text/plain": [
       "<Figure size 640x480 with 2 Axes>"
      ]
     },
     "metadata": {},
     "output_type": "display_data"
    }
   ],
   "source": [
    "sns.heatmap(confusion_matrix(y_test, y_pred), annot=True, fmt='d', cmap='magma', xticklabels=['Not Hate Speech', ' Hate Speech'], yticklabels=['Not Hate Speech', ' Hate Speech'])\n",
    "plt.xlabel('Predicted')\n",
    "plt.ylabel('Actual')\n",
    "plt.show()"
   ]
  },
  {
   "cell_type": "code",
   "execution_count": 118,
   "metadata": {},
   "outputs": [
    {
     "name": "stdout",
     "output_type": "stream",
     "text": [
      "Macro F1 Score: 0.6968191627545437\n"
     ]
    }
   ],
   "source": [
    "macro_f1 = f1_score(y_test, y_pred, average='macro')\n",
    "print(f\"Macro F1 Score: {macro_f1}\")"
   ]
  },
  {
   "cell_type": "markdown",
   "metadata": {},
   "source": [
    "- **Glove**"
   ]
  },
  {
   "cell_type": "code",
   "execution_count": 95,
   "metadata": {},
   "outputs": [
    {
     "name": "stdout",
     "output_type": "stream",
     "text": [
      "[==================================================] 100.0% 128.1/128.1MB downloaded\n"
     ]
    }
   ],
   "source": [
    "glove_vectors = api.load(\"glove-wiki-gigaword-100\")"
   ]
  },
  {
   "cell_type": "code",
   "execution_count": null,
   "metadata": {},
   "outputs": [],
   "source": [
    "class Glove(BaseEstimator, TransformerMixin):\n",
    "    def __init__(self):\n",
    "        self.model = api.load(\"glove-wiki-gigaword-100\")\n",
    "\n",
    "    def fit(self, X, y=None):\n",
    "        return self\n",
    "\n",
    "    def transform(self, X):\n",
    "        # empty array for embeddings\n",
    "        embeddings = np.zeros((len(X), 100))\n",
    "\n",
    "        for i, doc in enumerate(X):\n",
    "            words = doc.split() # Tokenize the document\n",
    "            doc_vector = np.zeros(100)\n",
    "            valid_words = 0\n",
    "            for word in words:\n",
    "                try:\n",
    "                    word_vector = self.model[word] \n",
    "                    doc_vector += word_vector\n",
    "                    valid_words += 1\n",
    "                except KeyError:\n",
    "                    continue\n",
    "            if valid_words > 0:\n",
    "                doc_vector /= valid_words\n",
    "            embeddings[i, :] = doc_vector\n",
    "        return embeddings\n",
    "\n",
    "    def fit_transform(self, X, y=None):\n",
    "        return self.transform(X)"
   ]
  },
  {
   "cell_type": "code",
   "execution_count": 123,
   "metadata": {},
   "outputs": [
    {
     "name": "stdout",
     "output_type": "stream",
     "text": [
      "              precision    recall  f1-score   support\n",
      "\n",
      "           0       0.95      0.99      0.97      5864\n",
      "           1       0.64      0.29      0.40       443\n",
      "\n",
      "    accuracy                           0.94      6307\n",
      "   macro avg       0.79      0.64      0.68      6307\n",
      "weighted avg       0.93      0.94      0.93      6307\n",
      "\n"
     ]
    }
   ],
   "source": [
    "pipeline = Pipeline(steps=[\n",
    "    ('preprocessing', CustomTransformer()),\n",
    "    ('Vectorizing', Glove()),\n",
    "    ('model', LogisticRegression()),\n",
    "])\n",
    "\n",
    "pipeline.fit(X_train, y_train)\n",
    "y_pred = pipeline.predict(X_test)\n",
    "print(classification_report(y_test, y_pred))"
   ]
  },
  {
   "cell_type": "code",
   "execution_count": 124,
   "metadata": {},
   "outputs": [
    {
     "data": {
      "image/png": "[encoded data removed]",
      "text/plain": [
       "<Figure size 640x480 with 2 Axes>"
      ]
     },
     "metadata": {},
     "output_type": "display_data"
    }
   ],
   "source": [
    "sns.heatmap(confusion_matrix(y_test, y_pred), annot=True, fmt='d', cmap='magma', xticklabels=['Not Hate Speech', ' Hate Speech'], yticklabels=['Not Hate Speech', ' Hate Speech'])\n",
    "plt.xlabel('Predicted')\n",
    "plt.ylabel('Actual')\n",
    "plt.show()"
   ]
  },
  {
   "cell_type": "code",
   "execution_count": 125,
   "metadata": {},
   "outputs": [
    {
     "name": "stdout",
     "output_type": "stream",
     "text": [
      "Macro F1 Score: 0.6847578910008707\n"
     ]
    }
   ],
   "source": [
    "macro_f1 = f1_score(y_test, y_pred, average='macro')\n",
    "print(f\"Macro F1 Score: {macro_f1}\")"
   ]
  },
  {
   "cell_type": "markdown",
   "metadata": {},
   "source": [
    "- **CNN**"
   ]
  },
  {
   "cell_type": "code",
   "execution_count": null,
   "metadata": {},
   "outputs": [],
   "source": [
    "max_words = 10000\n",
    "max_len = 100\n",
    "\n",
    "X_train = X_train.astype(str).tolist()\n",
    "X_test = X_test.astype(str).tolist()\n",
    "\n",
    "tokenizer = Tokenizer(num_words=max_words)\n",
    "tokenizer.fit_on_texts(X_train)\n",
    "\n",
    "X_train_seq = tokenizer.texts_to_sequences(X_train)\n",
    "X_test_seq = tokenizer.texts_to_sequences(X_test)\n",
    "\n",
    "X_train_pad = pad_sequences(X_train_seq, maxlen=max_len)\n",
    "X_test_pad = pad_sequences(X_test_seq, maxlen=max_len)"
   ]
  },
  {
   "cell_type": "code",
   "execution_count": null,
   "metadata": {},
   "outputs": [],
   "source": [
    "epochs = 10\n",
    "batch_size = 64\n",
    "early_stop = EarlyStopping(monitor='val_loss', patience=5, restore_best_weights=True)\n",
    "class_weight = { 0:1 , 1:2 } # Adjust class weights to handle class imbalance"
   ]
  },
  {
   "cell_type": "code",
   "execution_count": 258,
   "metadata": {},
   "outputs": [
    {
     "name": "stdout",
     "output_type": "stream",
     "text": [
      "Epoch 1/10\n",
      "\u001b[1m316/316\u001b[0m \u001b[32m━━━━━━━━━━━━━━━━━━━━\u001b[0m\u001b[37m\u001b[0m \u001b[1m24s\u001b[0m 66ms/step - accuracy: 0.7832 - loss: 0.4857 - val_accuracy: 0.9437 - val_loss: 0.1705\n",
      "Epoch 2/10\n",
      "\u001b[1m316/316\u001b[0m \u001b[32m━━━━━━━━━━━━━━━━━━━━\u001b[0m\u001b[37m\u001b[0m \u001b[1m41s\u001b[0m 67ms/step - accuracy: 0.9790 - loss: 0.1061 - val_accuracy: 0.9546 - val_loss: 0.1330\n",
      "Epoch 3/10\n",
      "\u001b[1m316/316\u001b[0m \u001b[32m━━━━━━━━━━━━━━━━━━━━\u001b[0m\u001b[37m\u001b[0m \u001b[1m21s\u001b[0m 66ms/step - accuracy: 0.9932 - loss: 0.0415 - val_accuracy: 0.9483 - val_loss: 0.1839\n",
      "Epoch 4/10\n",
      "\u001b[1m316/316\u001b[0m \u001b[32m━━━━━━━━━━━━━━━━━━━━\u001b[0m\u001b[37m\u001b[0m \u001b[1m21s\u001b[0m 66ms/step - accuracy: 0.9974 - loss: 0.0179 - val_accuracy: 0.9520 - val_loss: 0.2184\n",
      "Epoch 5/10\n",
      "\u001b[1m316/316\u001b[0m \u001b[32m━━━━━━━━━━━━━━━━━━━━\u001b[0m\u001b[37m\u001b[0m \u001b[1m21s\u001b[0m 66ms/step - accuracy: 0.9979 - loss: 0.0117 - val_accuracy: 0.9560 - val_loss: 0.1956\n",
      "Epoch 6/10\n",
      "\u001b[1m316/316\u001b[0m \u001b[32m━━━━━━━━━━━━━━━━━━━━\u001b[0m\u001b[37m\u001b[0m \u001b[1m21s\u001b[0m 67ms/step - accuracy: 0.9972 - loss: 0.0122 - val_accuracy: 0.9348 - val_loss: 0.2513\n",
      "Epoch 7/10\n",
      "\u001b[1m316/316\u001b[0m \u001b[32m━━━━━━━━━━━━━━━━━━━━\u001b[0m\u001b[37m\u001b[0m \u001b[1m21s\u001b[0m 66ms/step - accuracy: 0.9962 - loss: 0.0155 - val_accuracy: 0.9536 - val_loss: 0.2002\n"
     ]
    }
   ],
   "source": [
    "model = Sequential([\n",
    "    Embedding(input_dim=max_words, output_dim=128),\n",
    "    Conv1D(128, 3, activation='relu'),\n",
    "    GlobalMaxPooling1D(),\n",
    "    Dense(64, activation='relu'),\n",
    "    Dropout(0.2),\n",
    "    Dense(32, activation='relu'),\n",
    "    BatchNormalization(),\n",
    "    Dense(1, activation='sigmoid')\n",
    "])\n",
    "model.compile(optimizer='adam', loss='binary_crossentropy', metrics=['accuracy'])\n",
    "history = model.fit(X_train_pad, y_train, epochs=epochs, batch_size=batch_size, validation_split=0.2, callbacks=[early_stop], class_weight=class_weight)"
   ]
  },
  {
   "cell_type": "code",
   "execution_count": 253,
   "metadata": {},
   "outputs": [
    {
     "data": {
      "image/png": "[encoded data removed]",
      "text/plain": [
       "<Figure size 640x480 with 1 Axes>"
      ]
     },
     "metadata": {},
     "output_type": "display_data"
    }
   ],
   "source": [
    "plt.plot(history.history['accuracy'], label='train accuracy')\n",
    "plt.plot(history.history['val_accuracy'], label='validation accuracy')\n",
    "plt.xlabel('Epochs')\n",
    "plt.ylabel('Accuracy')\n",
    "plt.legend()\n",
    "plt.show()"
   ]
  },
  {
   "cell_type": "code",
   "execution_count": null,
   "metadata": {},
   "outputs": [
    {
     "data": {
      "image/png": "[encoded data removed]",
      "text/plain": [
       "<Figure size 640x480 with 1 Axes>"
      ]
     },
     "metadata": {},
     "output_type": "display_data"
    }
   ],
   "source": [
    "plt.plot(history.history['loss'], label='train loss')\n",
    "plt.plot(history.history['val_loss'], label='validation loss')\n",
    "plt.xlabel('Epochs')\n",
    "plt.ylabel('Loss')\n",
    "plt.legend()\n",
    "plt.show()"
   ]
  },
  {
   "cell_type": "code",
   "execution_count": 260,
   "metadata": {},
   "outputs": [
    {
     "name": "stdout",
     "output_type": "stream",
     "text": [
      "\u001b[1m198/198\u001b[0m \u001b[32m━━━━━━━━━━━━━━━━━━━━\u001b[0m\u001b[37m\u001b[0m \u001b[1m1s\u001b[0m 7ms/step\n",
      "              precision    recall  f1-score   support\n",
      "\n",
      "           0       0.93      1.00      0.96      5864\n",
      "           1       0.11      0.00      0.01       443\n",
      "\n",
      "    accuracy                           0.93      6307\n",
      "   macro avg       0.52      0.50      0.49      6307\n",
      "weighted avg       0.87      0.93      0.90      6307\n",
      "\n"
     ]
    }
   ],
   "source": [
    "y_pred = model.predict(X_test_pad)\n",
    "y_pred = (y_pred > 0.49).astype(int)\n",
    "print(classification_report(y_test, y_pred))"
   ]
  },
  {
   "cell_type": "markdown",
   "metadata": {},
   "source": [
    "- huge bias to 0 class"
   ]
  }
 ],
 "metadata": {
  "colab": {
   "provenance": []
  },
  "kernelspec": {
   "display_name": "Python 3",
   "language": "python",
   "name": "python3"
  },
  "language_info": {
   "codemirror_mode": {
    "name": "ipython",
    "version": 3
   },
   "file_extension": ".py",
   "mimetype": "text/x-python",
   "name": "python",
   "nbconvert_exporter": "python",
   "pygments_lexer": "ipython3",
   "version": "3.11.0"
  }
 },
 "nbformat": 4,
 "nbformat_minor": 4
}
